{
 "cells": [
  {
   "cell_type": "code",
   "execution_count": 1,
   "metadata": {},
   "outputs": [],
   "source": [
    "import pandas as pd\n",
    "import numpy as np\n",
    "import matplotlib.pyplot as plt\n",
    "import matplotlib.ticker as ticker\n",
    "import seaborn as sns"
   ]
  },
  {
   "cell_type": "code",
   "execution_count": 18,
   "metadata": {},
   "outputs": [
    {
     "data": {
      "text/html": [
       "<div>\n",
       "<style scoped>\n",
       "    .dataframe tbody tr th:only-of-type {\n",
       "        vertical-align: middle;\n",
       "    }\n",
       "\n",
       "    .dataframe tbody tr th {\n",
       "        vertical-align: top;\n",
       "    }\n",
       "\n",
       "    .dataframe thead th {\n",
       "        text-align: right;\n",
       "    }\n",
       "</style>\n",
       "<table border=\"1\" class=\"dataframe\">\n",
       "  <thead>\n",
       "    <tr style=\"text-align: right;\">\n",
       "      <th></th>\n",
       "      <th>Unnamed: 0</th>\n",
       "      <th>item_condition_id</th>\n",
       "      <th>brand_name</th>\n",
       "      <th>shipping</th>\n",
       "      <th>category_3</th>\n",
       "      <th>log_price</th>\n",
       "      <th>apple</th>\n",
       "      <th>ship_chr</th>\n",
       "    </tr>\n",
       "  </thead>\n",
       "  <tbody>\n",
       "    <tr>\n",
       "      <td>0</td>\n",
       "      <td>1</td>\n",
       "      <td>4</td>\n",
       "      <td>Apple</td>\n",
       "      <td>0.0</td>\n",
       "      <td>iPad</td>\n",
       "      <td>2.944439</td>\n",
       "      <td>1.0</td>\n",
       "      <td>Paid</td>\n",
       "    </tr>\n",
       "    <tr>\n",
       "      <td>1</td>\n",
       "      <td>2</td>\n",
       "      <td>2</td>\n",
       "      <td>Apple</td>\n",
       "      <td>0.0</td>\n",
       "      <td>iPad</td>\n",
       "      <td>3.258097</td>\n",
       "      <td>1.0</td>\n",
       "      <td>Paid</td>\n",
       "    </tr>\n",
       "    <tr>\n",
       "      <td>2</td>\n",
       "      <td>3</td>\n",
       "      <td>2</td>\n",
       "      <td>Apple</td>\n",
       "      <td>0.0</td>\n",
       "      <td>iPad</td>\n",
       "      <td>4.663439</td>\n",
       "      <td>1.0</td>\n",
       "      <td>Paid</td>\n",
       "    </tr>\n",
       "    <tr>\n",
       "      <td>3</td>\n",
       "      <td>4</td>\n",
       "      <td>1</td>\n",
       "      <td>Targus</td>\n",
       "      <td>1.0</td>\n",
       "      <td>iPad</td>\n",
       "      <td>2.302585</td>\n",
       "      <td>0.0</td>\n",
       "      <td>Free</td>\n",
       "    </tr>\n",
       "    <tr>\n",
       "      <td>4</td>\n",
       "      <td>5</td>\n",
       "      <td>1</td>\n",
       "      <td>Apple</td>\n",
       "      <td>1.0</td>\n",
       "      <td>iPad</td>\n",
       "      <td>4.477337</td>\n",
       "      <td>1.0</td>\n",
       "      <td>Free</td>\n",
       "    </tr>\n",
       "  </tbody>\n",
       "</table>\n",
       "</div>"
      ],
      "text/plain": [
       "   Unnamed: 0  item_condition_id brand_name  shipping category_3  log_price  \\\n",
       "0           1                  4      Apple       0.0       iPad   2.944439   \n",
       "1           2                  2      Apple       0.0       iPad   3.258097   \n",
       "2           3                  2      Apple       0.0       iPad   4.663439   \n",
       "3           4                  1     Targus       1.0       iPad   2.302585   \n",
       "4           5                  1      Apple       1.0       iPad   4.477337   \n",
       "\n",
       "   apple ship_chr  \n",
       "0    1.0     Paid  \n",
       "1    1.0     Paid  \n",
       "2    1.0     Paid  \n",
       "3    0.0     Free  \n",
       "4    1.0     Free  "
      ]
     },
     "execution_count": 18,
     "metadata": {},
     "output_type": "execute_result"
    }
   ],
   "source": [
    "df1=pd.read_csv('ipad.csv')\n",
    "df1.head()"
   ]
  },
  {
   "cell_type": "code",
   "execution_count": 19,
   "metadata": {},
   "outputs": [
    {
     "data": {
      "text/plain": [
       "10"
      ]
     },
     "execution_count": 19,
     "metadata": {},
     "output_type": "execute_result"
    }
   ],
   "source": [
    "len(df1['brand_name'].unique())"
   ]
  },
  {
   "cell_type": "code",
   "execution_count": 20,
   "metadata": {},
   "outputs": [
    {
     "data": {
      "text/plain": [
       "Text(0.5, 0.98, 'iPad')"
      ]
     },
     "execution_count": 20,
     "metadata": {},
     "output_type": "execute_result"
    },
    {
     "data": {
      "image/png": "[encoded data removed]",
      "text/plain": [
       "<Figure size 922.125x648 with 10 Axes>"
      ]
     },
     "metadata": {
      "needs_background": "light"
     },
     "output_type": "display_data"
    }
   ],
   "source": [
    "g=sns.catplot(x='item_condition_id',y='log_price',hue='ship_chr',col='brand_name',\n",
    "              col_wrap=4,height=3,data=df1,kind='box')\n",
    "g.fig.subplots_adjust(top=0.9)\n",
    "g.fig.suptitle('iPad')"
   ]
  },
  {
   "cell_type": "code",
   "execution_count": null,
   "metadata": {},
   "outputs": [],
   "source": []
  },
  {
   "cell_type": "code",
   "execution_count": 66,
   "metadata": {},
   "outputs": [
    {
     "data": {
      "text/html": [
       "<div>\n",
       "<style scoped>\n",
       "    .dataframe tbody tr th:only-of-type {\n",
       "        vertical-align: middle;\n",
       "    }\n",
       "\n",
       "    .dataframe tbody tr th {\n",
       "        vertical-align: top;\n",
       "    }\n",
       "\n",
       "    .dataframe thead th {\n",
       "        text-align: right;\n",
       "    }\n",
       "</style>\n",
       "<table border=\"1\" class=\"dataframe\">\n",
       "  <thead>\n",
       "    <tr style=\"text-align: right;\">\n",
       "      <th></th>\n",
       "      <th>Unnamed: 0</th>\n",
       "      <th>item_condition_id</th>\n",
       "      <th>brand_name</th>\n",
       "      <th>shipping</th>\n",
       "      <th>category_3</th>\n",
       "      <th>log_price</th>\n",
       "      <th>apple</th>\n",
       "      <th>ship_chr</th>\n",
       "    </tr>\n",
       "  </thead>\n",
       "  <tbody>\n",
       "    <tr>\n",
       "      <td>0</td>\n",
       "      <td>1</td>\n",
       "      <td>1</td>\n",
       "      <td>HP</td>\n",
       "      <td>1.0</td>\n",
       "      <td>Laptops &amp; Netbooks</td>\n",
       "      <td>2.197225</td>\n",
       "      <td>0.0</td>\n",
       "      <td>Free</td>\n",
       "    </tr>\n",
       "    <tr>\n",
       "      <td>1</td>\n",
       "      <td>2</td>\n",
       "      <td>3</td>\n",
       "      <td>Apple</td>\n",
       "      <td>1.0</td>\n",
       "      <td>Laptops &amp; Netbooks</td>\n",
       "      <td>5.075174</td>\n",
       "      <td>1.0</td>\n",
       "      <td>Free</td>\n",
       "    </tr>\n",
       "    <tr>\n",
       "      <td>2</td>\n",
       "      <td>3</td>\n",
       "      <td>3</td>\n",
       "      <td>Gateway</td>\n",
       "      <td>1.0</td>\n",
       "      <td>Laptops &amp; Netbooks</td>\n",
       "      <td>4.442651</td>\n",
       "      <td>0.0</td>\n",
       "      <td>Free</td>\n",
       "    </tr>\n",
       "    <tr>\n",
       "      <td>3</td>\n",
       "      <td>4</td>\n",
       "      <td>3</td>\n",
       "      <td>Apple</td>\n",
       "      <td>1.0</td>\n",
       "      <td>Laptops &amp; Netbooks</td>\n",
       "      <td>2.995732</td>\n",
       "      <td>1.0</td>\n",
       "      <td>Free</td>\n",
       "    </tr>\n",
       "    <tr>\n",
       "      <td>4</td>\n",
       "      <td>5</td>\n",
       "      <td>2</td>\n",
       "      <td>HP</td>\n",
       "      <td>0.0</td>\n",
       "      <td>Laptops &amp; Netbooks</td>\n",
       "      <td>5.342334</td>\n",
       "      <td>0.0</td>\n",
       "      <td>Paid</td>\n",
       "    </tr>\n",
       "  </tbody>\n",
       "</table>\n",
       "</div>"
      ],
      "text/plain": [
       "   Unnamed: 0  item_condition_id brand_name  shipping          category_3  \\\n",
       "0           1                  1         HP       1.0  Laptops & Netbooks   \n",
       "1           2                  3      Apple       1.0  Laptops & Netbooks   \n",
       "2           3                  3    Gateway       1.0  Laptops & Netbooks   \n",
       "3           4                  3      Apple       1.0  Laptops & Netbooks   \n",
       "4           5                  2         HP       0.0  Laptops & Netbooks   \n",
       "\n",
       "   log_price  apple ship_chr  \n",
       "0   2.197225    0.0     Free  \n",
       "1   5.075174    1.0     Free  \n",
       "2   4.442651    0.0     Free  \n",
       "3   2.995732    1.0     Free  \n",
       "4   5.342334    0.0     Paid  "
      ]
     },
     "execution_count": 66,
     "metadata": {},
     "output_type": "execute_result"
    }
   ],
   "source": [
    "df=pd.read_csv('lab.csv')\n",
    "df.head()"
   ]
  },
  {
   "cell_type": "code",
   "execution_count": 67,
   "metadata": {},
   "outputs": [
    {
     "data": {
      "text/plain": [
       "Text(0.5, 0.98, 'Laptops & Netbooks')"
      ]
     },
     "execution_count": 67,
     "metadata": {},
     "output_type": "execute_result"
    },
    {
     "data": {
      "image/png": "[encoded data removed]",
      "text/plain": [
       "<Figure size 922.125x648 with 11 Axes>"
      ]
     },
     "metadata": {
      "needs_background": "light"
     },
     "output_type": "display_data"
    }
   ],
   "source": [
    "g=sns.catplot(x='item_condition_id',y='log_price',hue='ship_chr',col='brand_name',\n",
    "              col_wrap=4,height=3,data=df,kind='box')\n",
    "g.fig.subplots_adjust(top=0.9)\n",
    "g.fig.suptitle('Laptops & Netbooks')"
   ]
  },
  {
   "cell_type": "code",
   "execution_count": 71,
   "metadata": {},
   "outputs": [
    {
     "data": {
      "text/html": [
       "<div>\n",
       "<style scoped>\n",
       "    .dataframe tbody tr th:only-of-type {\n",
       "        vertical-align: middle;\n",
       "    }\n",
       "\n",
       "    .dataframe tbody tr th {\n",
       "        vertical-align: top;\n",
       "    }\n",
       "\n",
       "    .dataframe thead th {\n",
       "        text-align: right;\n",
       "    }\n",
       "</style>\n",
       "<table border=\"1\" class=\"dataframe\">\n",
       "  <thead>\n",
       "    <tr style=\"text-align: right;\">\n",
       "      <th></th>\n",
       "      <th>Unnamed: 0</th>\n",
       "      <th>brand_name</th>\n",
       "      <th>shipping</th>\n",
       "      <th>category_3</th>\n",
       "      <th>log_price</th>\n",
       "      <th>apple</th>\n",
       "      <th>ship_chr</th>\n",
       "    </tr>\n",
       "    <tr>\n",
       "      <th>item_condition_id</th>\n",
       "      <th></th>\n",
       "      <th></th>\n",
       "      <th></th>\n",
       "      <th></th>\n",
       "      <th></th>\n",
       "      <th></th>\n",
       "      <th></th>\n",
       "    </tr>\n",
       "  </thead>\n",
       "  <tbody>\n",
       "    <tr>\n",
       "      <td>1</td>\n",
       "      <td>3</td>\n",
       "      <td>3</td>\n",
       "      <td>3</td>\n",
       "      <td>3</td>\n",
       "      <td>3</td>\n",
       "      <td>3</td>\n",
       "      <td>3</td>\n",
       "    </tr>\n",
       "    <tr>\n",
       "      <td>2</td>\n",
       "      <td>11</td>\n",
       "      <td>11</td>\n",
       "      <td>11</td>\n",
       "      <td>11</td>\n",
       "      <td>11</td>\n",
       "      <td>11</td>\n",
       "      <td>11</td>\n",
       "    </tr>\n",
       "    <tr>\n",
       "      <td>3</td>\n",
       "      <td>15</td>\n",
       "      <td>15</td>\n",
       "      <td>15</td>\n",
       "      <td>15</td>\n",
       "      <td>15</td>\n",
       "      <td>15</td>\n",
       "      <td>15</td>\n",
       "    </tr>\n",
       "    <tr>\n",
       "      <td>4</td>\n",
       "      <td>7</td>\n",
       "      <td>7</td>\n",
       "      <td>7</td>\n",
       "      <td>7</td>\n",
       "      <td>7</td>\n",
       "      <td>7</td>\n",
       "      <td>7</td>\n",
       "    </tr>\n",
       "    <tr>\n",
       "      <td>5</td>\n",
       "      <td>3</td>\n",
       "      <td>3</td>\n",
       "      <td>3</td>\n",
       "      <td>3</td>\n",
       "      <td>3</td>\n",
       "      <td>3</td>\n",
       "      <td>3</td>\n",
       "    </tr>\n",
       "  </tbody>\n",
       "</table>\n",
       "</div>"
      ],
      "text/plain": [
       "                   Unnamed: 0  brand_name  shipping  category_3  log_price  \\\n",
       "item_condition_id                                                            \n",
       "1                           3           3         3           3          3   \n",
       "2                          11          11        11          11         11   \n",
       "3                          15          15        15          15         15   \n",
       "4                           7           7         7           7          7   \n",
       "5                           3           3         3           3          3   \n",
       "\n",
       "                   apple  ship_chr  \n",
       "item_condition_id                   \n",
       "1                      3         3  \n",
       "2                     11        11  \n",
       "3                     15        15  \n",
       "4                      7         7  \n",
       "5                      3         3  "
      ]
     },
     "execution_count": 71,
     "metadata": {},
     "output_type": "execute_result"
    }
   ],
   "source": [
    "df[df['brand_name']=='Dell'].groupby('item_condition_id').count()"
   ]
  },
  {
   "cell_type": "code",
   "execution_count": 23,
   "metadata": {},
   "outputs": [
    {
     "data": {
      "text/html": [
       "<div>\n",
       "<style scoped>\n",
       "    .dataframe tbody tr th:only-of-type {\n",
       "        vertical-align: middle;\n",
       "    }\n",
       "\n",
       "    .dataframe tbody tr th {\n",
       "        vertical-align: top;\n",
       "    }\n",
       "\n",
       "    .dataframe thead th {\n",
       "        text-align: right;\n",
       "    }\n",
       "</style>\n",
       "<table border=\"1\" class=\"dataframe\">\n",
       "  <thead>\n",
       "    <tr style=\"text-align: right;\">\n",
       "      <th></th>\n",
       "      <th>Unnamed: 0</th>\n",
       "      <th>item_condition_id</th>\n",
       "      <th>brand_name</th>\n",
       "      <th>shipping</th>\n",
       "      <th>category_3</th>\n",
       "      <th>log_price</th>\n",
       "      <th>apple</th>\n",
       "      <th>ship_chr</th>\n",
       "    </tr>\n",
       "  </thead>\n",
       "  <tbody>\n",
       "    <tr>\n",
       "      <td>0</td>\n",
       "      <td>1</td>\n",
       "      <td>4</td>\n",
       "      <td>Apple</td>\n",
       "      <td>0</td>\n",
       "      <td>iPad</td>\n",
       "      <td>2.944439</td>\n",
       "      <td>1</td>\n",
       "      <td>Paid</td>\n",
       "    </tr>\n",
       "    <tr>\n",
       "      <td>1</td>\n",
       "      <td>2</td>\n",
       "      <td>2</td>\n",
       "      <td>Apple</td>\n",
       "      <td>0</td>\n",
       "      <td>iPad</td>\n",
       "      <td>3.258097</td>\n",
       "      <td>1</td>\n",
       "      <td>Paid</td>\n",
       "    </tr>\n",
       "    <tr>\n",
       "      <td>2</td>\n",
       "      <td>3</td>\n",
       "      <td>2</td>\n",
       "      <td>Apple</td>\n",
       "      <td>0</td>\n",
       "      <td>iPad</td>\n",
       "      <td>4.663439</td>\n",
       "      <td>1</td>\n",
       "      <td>Paid</td>\n",
       "    </tr>\n",
       "    <tr>\n",
       "      <td>3</td>\n",
       "      <td>4</td>\n",
       "      <td>3</td>\n",
       "      <td>Apple</td>\n",
       "      <td>1</td>\n",
       "      <td>Laptops &amp; Netbooks</td>\n",
       "      <td>5.075174</td>\n",
       "      <td>1</td>\n",
       "      <td>Free</td>\n",
       "    </tr>\n",
       "    <tr>\n",
       "      <td>4</td>\n",
       "      <td>5</td>\n",
       "      <td>3</td>\n",
       "      <td>Apple</td>\n",
       "      <td>1</td>\n",
       "      <td>Laptops &amp; Netbooks</td>\n",
       "      <td>2.995732</td>\n",
       "      <td>1</td>\n",
       "      <td>Free</td>\n",
       "    </tr>\n",
       "  </tbody>\n",
       "</table>\n",
       "</div>"
      ],
      "text/plain": [
       "   Unnamed: 0  item_condition_id brand_name  shipping          category_3  \\\n",
       "0           1                  4      Apple         0                iPad   \n",
       "1           2                  2      Apple         0                iPad   \n",
       "2           3                  2      Apple         0                iPad   \n",
       "3           4                  3      Apple         1  Laptops & Netbooks   \n",
       "4           5                  3      Apple         1  Laptops & Netbooks   \n",
       "\n",
       "   log_price  apple ship_chr  \n",
       "0   2.944439      1     Paid  \n",
       "1   3.258097      1     Paid  \n",
       "2   4.663439      1     Paid  \n",
       "3   5.075174      1     Free  \n",
       "4   2.995732      1     Free  "
      ]
     },
     "execution_count": 23,
     "metadata": {},
     "output_type": "execute_result"
    }
   ],
   "source": [
    "df_a=pd.read_csv('apple.csv')\n",
    "df_a.head()"
   ]
  },
  {
   "cell_type": "code",
   "execution_count": 44,
   "metadata": {},
   "outputs": [
    {
     "data": {
      "text/plain": [
       "716"
      ]
     },
     "execution_count": 44,
     "metadata": {},
     "output_type": "execute_result"
    }
   ],
   "source": [
    "len(df_a)"
   ]
  },
  {
   "cell_type": "code",
   "execution_count": 62,
   "metadata": {},
   "outputs": [
    {
     "data": {
      "text/plain": [
       "Text(0.5, 0.98, 'Brand: Apple')"
      ]
     },
     "execution_count": 62,
     "metadata": {},
     "output_type": "execute_result"
    },
    {
     "data": {
      "image/png": "[encoded data removed]",
      "text/plain": [
       "<Figure size 778.125x360 with 2 Axes>"
      ]
     },
     "metadata": {
      "needs_background": "light"
     },
     "output_type": "display_data"
    }
   ],
   "source": [
    "g=sns.catplot(x='item_condition_id',y='log_price',hue='ship_chr',col='category_3',\n",
    "              data=df_a,kind='box')\n",
    "g.fig.subplots_adjust(top=0.9)\n",
    "g.fig.suptitle('Brand: Apple')\n"
   ]
  },
  {
   "cell_type": "code",
   "execution_count": null,
   "metadata": {},
   "outputs": [],
   "source": []
  },
  {
   "cell_type": "code",
   "execution_count": 45,
   "metadata": {},
   "outputs": [
    {
     "data": {
      "text/plain": [
       "1277"
      ]
     },
     "execution_count": 45,
     "metadata": {},
     "output_type": "execute_result"
    }
   ],
   "source": [
    "df_br=pd.read_csv('brand_effect.csv')\n",
    "df_br.head()\n",
    "len(df_br)"
   ]
  },
  {
   "cell_type": "code",
   "execution_count": 36,
   "metadata": {},
   "outputs": [
    {
     "data": {
      "text/plain": [
       "array(['Apple', 'HP', 'Targus', 'Gateway', 'Samsung', 'Acer', 'Compaq',\n",
       "       'Logitech', 'ASUS', 'AmazonBasics', 'Toshiba', 'Dell', 'IBM',\n",
       "       'Microsoft', 'UltimateTV RCA', 'Wacom', 'LG', 'Sony'], dtype=object)"
      ]
     },
     "execution_count": 36,
     "metadata": {},
     "output_type": "execute_result"
    }
   ],
   "source": [
    "df_br['brand_name'].unique()"
   ]
  },
  {
   "cell_type": "code",
   "execution_count": 46,
   "metadata": {},
   "outputs": [
    {
     "data": {
      "text/plain": [
       "124"
      ]
     },
     "execution_count": 46,
     "metadata": {},
     "output_type": "execute_result"
    }
   ],
   "source": [
    "df_s=df_br[df_br['brand_name']=='Samsung']\n",
    "df_s.head()\n",
    "len(df_s)"
   ]
  },
  {
   "cell_type": "code",
   "execution_count": 60,
   "metadata": {},
   "outputs": [
    {
     "data": {
      "text/plain": [
       "Text(0.5, 0.98, 'Brand: Samsung')"
      ]
     },
     "execution_count": 60,
     "metadata": {},
     "output_type": "execute_result"
    },
    {
     "data": {
      "image/png": "[encoded data removed]",
      "text/plain": [
       "<Figure size 778.125x360 with 2 Axes>"
      ]
     },
     "metadata": {
      "needs_background": "light"
     },
     "output_type": "display_data"
    }
   ],
   "source": [
    "g=sns.catplot(x='item_condition_id',y='log_price',hue='ship_chr',col='category_3',\n",
    "              data=df_s,kind='box')\n",
    "g.fig.subplots_adjust(top=0.9)\n",
    "g.fig.suptitle('Brand: Samsung')"
   ]
  },
  {
   "cell_type": "code",
   "execution_count": 47,
   "metadata": {},
   "outputs": [
    {
     "data": {
      "text/plain": [
       "105"
      ]
     },
     "execution_count": 47,
     "metadata": {},
     "output_type": "execute_result"
    }
   ],
   "source": [
    "df_h=df_br[df_br['brand_name']=='HP']\n",
    "df_h.head()\n",
    "len(df_h)"
   ]
  },
  {
   "cell_type": "code",
   "execution_count": 61,
   "metadata": {},
   "outputs": [
    {
     "data": {
      "text/plain": [
       "Text(0.5, 0.98, 'Brand: HP')"
      ]
     },
     "execution_count": 61,
     "metadata": {},
     "output_type": "execute_result"
    },
    {
     "data": {
      "image/png": "[encoded data removed]",
      "text/plain": [
       "<Figure size 778.125x360 with 2 Axes>"
      ]
     },
     "metadata": {
      "needs_background": "light"
     },
     "output_type": "display_data"
    }
   ],
   "source": [
    "g=sns.catplot(x='item_condition_id',y='log_price',hue='ship_chr',col='category_3',\n",
    "              data=df_h,kind='box')\n",
    "g.fig.subplots_adjust(top=0.9)\n",
    "g.fig.suptitle('Brand: HP')"
   ]
  },
  {
   "cell_type": "code",
   "execution_count": 56,
   "metadata": {},
   "outputs": [
    {
     "data": {
      "text/plain": [
       "brand_name\n",
       "Apple             716\n",
       "Samsung           124\n",
       "HP                105\n",
       "AmazonBasics       91\n",
       "ASUS               43\n",
       "Microsoft          40\n",
       "Dell               40\n",
       "Acer               31\n",
       "Toshiba            25\n",
       "LG                 10\n",
       "Wacom               8\n",
       "UltimateTV RCA      8\n",
       "Sony                8\n",
       "Logitech            7\n",
       "Gateway             6\n",
       "Compaq              5\n",
       "Targus              5\n",
       "IBM                 5\n",
       "Name: shipping, dtype: int64"
      ]
     },
     "execution_count": 56,
     "metadata": {},
     "output_type": "execute_result"
    }
   ],
   "source": [
    "df_br.groupby('brand_name').count()['shipping'].sort_values(ascending=False)"
   ]
  },
  {
   "cell_type": "code",
   "execution_count": 81,
   "metadata": {},
   "outputs": [
    {
     "data": {
      "text/plain": [
       "brand_name\n",
       "Sony              4.605170\n",
       "Apple             4.339157\n",
       "Microsoft         4.170963\n",
       "Dell              4.094345\n",
       "Samsung           4.045168\n",
       "ASUS              3.917442\n",
       "IBM               3.912023\n",
       "LG                3.774796\n",
       "AmazonBasics      3.489208\n",
       "UltimateTV RCA    3.450670\n",
       "Toshiba           3.433987\n",
       "Wacom             3.433577\n",
       "HP                3.069942\n",
       "Logitech          2.957672\n",
       "Targus            2.654019\n",
       "Name: log_price, dtype: float64"
      ]
     },
     "execution_count": 81,
     "metadata": {},
     "output_type": "execute_result"
    }
   ],
   "source": [
    "df_ipad=df_br[df_br['category_3']=='iPad']\n",
    "df_ipad.groupby('brand_name')['log_price'].mean().sort_values(ascending=False)"
   ]
  },
  {
   "cell_type": "code",
   "execution_count": 82,
   "metadata": {},
   "outputs": [
    {
     "data": {
      "text/html": [
       "<div>\n",
       "<style scoped>\n",
       "    .dataframe tbody tr th:only-of-type {\n",
       "        vertical-align: middle;\n",
       "    }\n",
       "\n",
       "    .dataframe tbody tr th {\n",
       "        vertical-align: top;\n",
       "    }\n",
       "\n",
       "    .dataframe thead th {\n",
       "        text-align: right;\n",
       "    }\n",
       "</style>\n",
       "<table border=\"1\" class=\"dataframe\">\n",
       "  <thead>\n",
       "    <tr style=\"text-align: right;\">\n",
       "      <th></th>\n",
       "      <th>Unnamed: 0</th>\n",
       "      <th>item_condition_id</th>\n",
       "      <th>brand_name</th>\n",
       "      <th>shipping</th>\n",
       "      <th>category_3</th>\n",
       "      <th>log_price</th>\n",
       "      <th>apple</th>\n",
       "      <th>ship_chr</th>\n",
       "    </tr>\n",
       "  </thead>\n",
       "  <tbody>\n",
       "    <tr>\n",
       "      <td>336</td>\n",
       "      <td>337</td>\n",
       "      <td>1</td>\n",
       "      <td>Sony</td>\n",
       "      <td>1</td>\n",
       "      <td>iPad</td>\n",
       "      <td>4.60517</td>\n",
       "      <td>0</td>\n",
       "      <td>Free</td>\n",
       "    </tr>\n",
       "  </tbody>\n",
       "</table>\n",
       "</div>"
      ],
      "text/plain": [
       "     Unnamed: 0  item_condition_id brand_name  shipping category_3  log_price  \\\n",
       "336         337                  1       Sony         1       iPad    4.60517   \n",
       "\n",
       "     apple ship_chr  \n",
       "336      0     Free  "
      ]
     },
     "execution_count": 82,
     "metadata": {},
     "output_type": "execute_result"
    }
   ],
   "source": [
    "df_ipad[df_ipad['brand_name']=='Sony']\n",
    "# 잘못 입력한 거인듯"
   ]
  },
  {
   "cell_type": "code",
   "execution_count": 84,
   "metadata": {
    "scrolled": true
   },
   "outputs": [
    {
     "data": {
      "text/html": [
       "<div>\n",
       "<style scoped>\n",
       "    .dataframe tbody tr th:only-of-type {\n",
       "        vertical-align: middle;\n",
       "    }\n",
       "\n",
       "    .dataframe tbody tr th {\n",
       "        vertical-align: top;\n",
       "    }\n",
       "\n",
       "    .dataframe thead th {\n",
       "        text-align: right;\n",
       "    }\n",
       "</style>\n",
       "<table border=\"1\" class=\"dataframe\">\n",
       "  <thead>\n",
       "    <tr style=\"text-align: right;\">\n",
       "      <th></th>\n",
       "      <th>Unnamed: 0</th>\n",
       "      <th>item_condition_id</th>\n",
       "      <th>brand_name</th>\n",
       "      <th>shipping</th>\n",
       "      <th>category_3</th>\n",
       "      <th>log_price</th>\n",
       "      <th>apple</th>\n",
       "      <th>ship_chr</th>\n",
       "    </tr>\n",
       "  </thead>\n",
       "  <tbody>\n",
       "    <tr>\n",
       "      <td>433</td>\n",
       "      <td>434</td>\n",
       "      <td>5</td>\n",
       "      <td>Microsoft</td>\n",
       "      <td>0</td>\n",
       "      <td>iPad</td>\n",
       "      <td>3.713572</td>\n",
       "      <td>0</td>\n",
       "      <td>Paid</td>\n",
       "    </tr>\n",
       "    <tr>\n",
       "      <td>551</td>\n",
       "      <td>552</td>\n",
       "      <td>3</td>\n",
       "      <td>Microsoft</td>\n",
       "      <td>1</td>\n",
       "      <td>iPad</td>\n",
       "      <td>4.442651</td>\n",
       "      <td>0</td>\n",
       "      <td>Free</td>\n",
       "    </tr>\n",
       "    <tr>\n",
       "      <td>700</td>\n",
       "      <td>701</td>\n",
       "      <td>2</td>\n",
       "      <td>Microsoft</td>\n",
       "      <td>0</td>\n",
       "      <td>iPad</td>\n",
       "      <td>5.525453</td>\n",
       "      <td>0</td>\n",
       "      <td>Paid</td>\n",
       "    </tr>\n",
       "    <tr>\n",
       "      <td>813</td>\n",
       "      <td>814</td>\n",
       "      <td>2</td>\n",
       "      <td>Microsoft</td>\n",
       "      <td>0</td>\n",
       "      <td>iPad</td>\n",
       "      <td>4.564348</td>\n",
       "      <td>0</td>\n",
       "      <td>Paid</td>\n",
       "    </tr>\n",
       "    <tr>\n",
       "      <td>853</td>\n",
       "      <td>854</td>\n",
       "      <td>3</td>\n",
       "      <td>Microsoft</td>\n",
       "      <td>0</td>\n",
       "      <td>iPad</td>\n",
       "      <td>5.429346</td>\n",
       "      <td>0</td>\n",
       "      <td>Paid</td>\n",
       "    </tr>\n",
       "    <tr>\n",
       "      <td>983</td>\n",
       "      <td>984</td>\n",
       "      <td>2</td>\n",
       "      <td>Microsoft</td>\n",
       "      <td>0</td>\n",
       "      <td>iPad</td>\n",
       "      <td>4.189655</td>\n",
       "      <td>0</td>\n",
       "      <td>Paid</td>\n",
       "    </tr>\n",
       "    <tr>\n",
       "      <td>993</td>\n",
       "      <td>994</td>\n",
       "      <td>3</td>\n",
       "      <td>Microsoft</td>\n",
       "      <td>1</td>\n",
       "      <td>iPad</td>\n",
       "      <td>3.258097</td>\n",
       "      <td>0</td>\n",
       "      <td>Free</td>\n",
       "    </tr>\n",
       "    <tr>\n",
       "      <td>1055</td>\n",
       "      <td>1056</td>\n",
       "      <td>3</td>\n",
       "      <td>Microsoft</td>\n",
       "      <td>1</td>\n",
       "      <td>iPad</td>\n",
       "      <td>4.317488</td>\n",
       "      <td>0</td>\n",
       "      <td>Free</td>\n",
       "    </tr>\n",
       "    <tr>\n",
       "      <td>1106</td>\n",
       "      <td>1107</td>\n",
       "      <td>2</td>\n",
       "      <td>Microsoft</td>\n",
       "      <td>0</td>\n",
       "      <td>iPad</td>\n",
       "      <td>4.330733</td>\n",
       "      <td>0</td>\n",
       "      <td>Paid</td>\n",
       "    </tr>\n",
       "    <tr>\n",
       "      <td>1116</td>\n",
       "      <td>1117</td>\n",
       "      <td>3</td>\n",
       "      <td>Microsoft</td>\n",
       "      <td>1</td>\n",
       "      <td>iPad</td>\n",
       "      <td>3.806662</td>\n",
       "      <td>0</td>\n",
       "      <td>Free</td>\n",
       "    </tr>\n",
       "    <tr>\n",
       "      <td>1236</td>\n",
       "      <td>1237</td>\n",
       "      <td>3</td>\n",
       "      <td>Microsoft</td>\n",
       "      <td>1</td>\n",
       "      <td>iPad</td>\n",
       "      <td>2.302585</td>\n",
       "      <td>0</td>\n",
       "      <td>Free</td>\n",
       "    </tr>\n",
       "  </tbody>\n",
       "</table>\n",
       "</div>"
      ],
      "text/plain": [
       "      Unnamed: 0  item_condition_id brand_name  shipping category_3  \\\n",
       "433          434                  5  Microsoft         0       iPad   \n",
       "551          552                  3  Microsoft         1       iPad   \n",
       "700          701                  2  Microsoft         0       iPad   \n",
       "813          814                  2  Microsoft         0       iPad   \n",
       "853          854                  3  Microsoft         0       iPad   \n",
       "983          984                  2  Microsoft         0       iPad   \n",
       "993          994                  3  Microsoft         1       iPad   \n",
       "1055        1056                  3  Microsoft         1       iPad   \n",
       "1106        1107                  2  Microsoft         0       iPad   \n",
       "1116        1117                  3  Microsoft         1       iPad   \n",
       "1236        1237                  3  Microsoft         1       iPad   \n",
       "\n",
       "      log_price  apple ship_chr  \n",
       "433    3.713572      0     Paid  \n",
       "551    4.442651      0     Free  \n",
       "700    5.525453      0     Paid  \n",
       "813    4.564348      0     Paid  \n",
       "853    5.429346      0     Paid  \n",
       "983    4.189655      0     Paid  \n",
       "993    3.258097      0     Free  \n",
       "1055   4.317488      0     Free  \n",
       "1106   4.330733      0     Paid  \n",
       "1116   3.806662      0     Free  \n",
       "1236   2.302585      0     Free  "
      ]
     },
     "execution_count": 84,
     "metadata": {},
     "output_type": "execute_result"
    }
   ],
   "source": [
    "df_ipad[df_ipad['brand_name']=='Microsoft']"
   ]
  },
  {
   "cell_type": "code",
   "execution_count": 83,
   "metadata": {},
   "outputs": [
    {
     "data": {
      "text/plain": [
       "brand_name\n",
       "Apple        5.133274\n",
       "Microsoft    4.911328\n",
       "ASUS         4.770442\n",
       "Dell         4.534398\n",
       "HP           4.490869\n",
       "Samsung      4.444464\n",
       "IBM          4.420223\n",
       "Toshiba      4.327325\n",
       "Sony         4.280126\n",
       "Acer         4.115104\n",
       "Gateway      4.017194\n",
       "Wacom        3.828641\n",
       "Compaq       3.382451\n",
       "LG           3.178054\n",
       "Name: log_price, dtype: float64"
      ]
     },
     "execution_count": 83,
     "metadata": {},
     "output_type": "execute_result"
    }
   ],
   "source": [
    "df_lab=df_br[df_br['category_3']=='Laptops & Netbooks']\n",
    "df_lab.groupby('brand_name')['log_price'].mean().sort_values(ascending=False)"
   ]
  },
  {
   "cell_type": "code",
   "execution_count": null,
   "metadata": {},
   "outputs": [],
   "source": []
  },
  {
   "cell_type": "code",
   "execution_count": 64,
   "metadata": {},
   "outputs": [
    {
     "data": {
      "text/plain": [
       "Text(0.5, 0.98, 'iPad VS Laptops')"
      ]
     },
     "execution_count": 64,
     "metadata": {},
     "output_type": "execute_result"
    },
    {
     "data": {
      "image/png": "[encoded data removed]",
      "text/plain": [
       "<Figure size 778.125x360 with 2 Axes>"
      ]
     },
     "metadata": {
      "needs_background": "light"
     },
     "output_type": "display_data"
    }
   ],
   "source": [
    "g=sns.catplot(x='item_condition_id',y='log_price',hue='ship_chr',col='category_3',\n",
    "              data=df_br,kind='box')\n",
    "g.fig.subplots_adjust(top=0.8)\n",
    "g.fig.suptitle('iPad VS Laptops')"
   ]
  },
  {
   "cell_type": "code",
   "execution_count": null,
   "metadata": {},
   "outputs": [],
   "source": []
  }
 ],
 "metadata": {
  "kernelspec": {
   "display_name": "Python 3",
   "language": "python",
   "name": "python3"
  },
  "language_info": {
   "codemirror_mode": {
    "name": "ipython",
    "version": 3
   },
   "file_extension": ".py",
   "mimetype": "text/x-python",
   "name": "python",
   "nbconvert_exporter": "python",
   "pygments_lexer": "ipython3",
   "version": "3.7.4"
  }
 },
 "nbformat": 4,
 "nbformat_minor": 2
}
