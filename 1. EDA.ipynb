{
 "cells": [
  {
   "cell_type": "code",
   "execution_count": 1,
   "metadata": {},
   "outputs": [],
   "source": [
    "import pandas as pd\n",
    "import numpy as np\n",
    "import matplotlib.pyplot as plt\n",
    "import seaborn as sns"
   ]
  },
  {
   "cell_type": "code",
   "execution_count": 2,
   "metadata": {
    "scrolled": true
   },
   "outputs": [
    {
     "data": {
      "text/html": [
       "<div>\n",
       "<style scoped>\n",
       "    .dataframe tbody tr th:only-of-type {\n",
       "        vertical-align: middle;\n",
       "    }\n",
       "\n",
       "    .dataframe tbody tr th {\n",
       "        vertical-align: top;\n",
       "    }\n",
       "\n",
       "    .dataframe thead th {\n",
       "        text-align: right;\n",
       "    }\n",
       "</style>\n",
       "<table border=\"1\" class=\"dataframe\">\n",
       "  <thead>\n",
       "    <tr style=\"text-align: right;\">\n",
       "      <th></th>\n",
       "      <th>train_id</th>\n",
       "      <th>name</th>\n",
       "      <th>item_condition_id</th>\n",
       "      <th>brand_name</th>\n",
       "      <th>price</th>\n",
       "      <th>shipping</th>\n",
       "      <th>item_description</th>\n",
       "      <th>category_1</th>\n",
       "      <th>category_2</th>\n",
       "      <th>category_3</th>\n",
       "    </tr>\n",
       "  </thead>\n",
       "  <tbody>\n",
       "    <tr>\n",
       "      <td>0</td>\n",
       "      <td>1</td>\n",
       "      <td>Razer BlackWidow Chroma Keyboard</td>\n",
       "      <td>3</td>\n",
       "      <td>Razer</td>\n",
       "      <td>52.0</td>\n",
       "      <td>0</td>\n",
       "      <td>This keyboard is in great condition and works ...</td>\n",
       "      <td>Electronics</td>\n",
       "      <td>Computers &amp; Tablets</td>\n",
       "      <td>Components &amp; Parts</td>\n",
       "    </tr>\n",
       "    <tr>\n",
       "      <td>1</td>\n",
       "      <td>2</td>\n",
       "      <td>AVA-VIV Blouse</td>\n",
       "      <td>1</td>\n",
       "      <td>Target</td>\n",
       "      <td>10.0</td>\n",
       "      <td>1</td>\n",
       "      <td>Adorable top with a hint of lace and a key hol...</td>\n",
       "      <td>Women</td>\n",
       "      <td>Tops &amp; Blouses</td>\n",
       "      <td>Blouse</td>\n",
       "    </tr>\n",
       "    <tr>\n",
       "      <td>2</td>\n",
       "      <td>6</td>\n",
       "      <td>Acacia pacific tides santorini top</td>\n",
       "      <td>3</td>\n",
       "      <td>Acacia Swimwear</td>\n",
       "      <td>64.0</td>\n",
       "      <td>0</td>\n",
       "      <td>Size small but straps slightly shortened to fi...</td>\n",
       "      <td>Women</td>\n",
       "      <td>Swimwear</td>\n",
       "      <td>Two-Piece</td>\n",
       "    </tr>\n",
       "    <tr>\n",
       "      <td>3</td>\n",
       "      <td>7</td>\n",
       "      <td>Girls cheer and tumbling bundle of 7</td>\n",
       "      <td>3</td>\n",
       "      <td>Soffe</td>\n",
       "      <td>6.0</td>\n",
       "      <td>1</td>\n",
       "      <td>You get three pairs of Sophie cheer shorts siz...</td>\n",
       "      <td>Sports &amp; Outdoors</td>\n",
       "      <td>Apparel</td>\n",
       "      <td>Girls</td>\n",
       "    </tr>\n",
       "    <tr>\n",
       "      <td>4</td>\n",
       "      <td>8</td>\n",
       "      <td>Girls Nike Pro shorts</td>\n",
       "      <td>3</td>\n",
       "      <td>Nike</td>\n",
       "      <td>19.0</td>\n",
       "      <td>0</td>\n",
       "      <td>Girls Size small Plus green. Three shorts total.</td>\n",
       "      <td>Sports &amp; Outdoors</td>\n",
       "      <td>Apparel</td>\n",
       "      <td>Girls</td>\n",
       "    </tr>\n",
       "  </tbody>\n",
       "</table>\n",
       "</div>"
      ],
      "text/plain": [
       "   train_id                                  name  item_condition_id  \\\n",
       "0         1      Razer BlackWidow Chroma Keyboard                  3   \n",
       "1         2                        AVA-VIV Blouse                  1   \n",
       "2         6    Acacia pacific tides santorini top                  3   \n",
       "3         7  Girls cheer and tumbling bundle of 7                  3   \n",
       "4         8                 Girls Nike Pro shorts                  3   \n",
       "\n",
       "        brand_name  price  shipping  \\\n",
       "0            Razer   52.0         0   \n",
       "1           Target   10.0         1   \n",
       "2  Acacia Swimwear   64.0         0   \n",
       "3            Soffe    6.0         1   \n",
       "4             Nike   19.0         0   \n",
       "\n",
       "                                    item_description         category_1  \\\n",
       "0  This keyboard is in great condition and works ...        Electronics   \n",
       "1  Adorable top with a hint of lace and a key hol...              Women   \n",
       "2  Size small but straps slightly shortened to fi...              Women   \n",
       "3  You get three pairs of Sophie cheer shorts siz...  Sports & Outdoors   \n",
       "4   Girls Size small Plus green. Three shorts total.  Sports & Outdoors   \n",
       "\n",
       "            category_2          category_3  \n",
       "0  Computers & Tablets  Components & Parts  \n",
       "1       Tops & Blouses              Blouse  \n",
       "2             Swimwear           Two-Piece  \n",
       "3              Apparel               Girls  \n",
       "4              Apparel               Girls  "
      ]
     },
     "execution_count": 2,
     "metadata": {},
     "output_type": "execute_result"
    }
   ],
   "source": [
    "df=pd.read_csv('train_preprocessing.csv')\n",
    "df.head()"
   ]
  },
  {
   "cell_type": "code",
   "execution_count": 3,
   "metadata": {},
   "outputs": [
    {
     "data": {
      "text/plain": [
       "(618485, 10)"
      ]
     },
     "execution_count": 3,
     "metadata": {},
     "output_type": "execute_result"
    }
   ],
   "source": [
    "df.shape"
   ]
  },
  {
   "cell_type": "code",
   "execution_count": 4,
   "metadata": {},
   "outputs": [
    {
     "data": {
      "text/html": [
       "<div>\n",
       "<style scoped>\n",
       "    .dataframe tbody tr th:only-of-type {\n",
       "        vertical-align: middle;\n",
       "    }\n",
       "\n",
       "    .dataframe tbody tr th {\n",
       "        vertical-align: top;\n",
       "    }\n",
       "\n",
       "    .dataframe thead th {\n",
       "        text-align: right;\n",
       "    }\n",
       "</style>\n",
       "<table border=\"1\" class=\"dataframe\">\n",
       "  <thead>\n",
       "    <tr style=\"text-align: right;\">\n",
       "      <th></th>\n",
       "      <th>train_id</th>\n",
       "      <th>name</th>\n",
       "      <th>item_condition_id</th>\n",
       "      <th>brand_name</th>\n",
       "      <th>price</th>\n",
       "      <th>shipping</th>\n",
       "      <th>item_description</th>\n",
       "      <th>category_1</th>\n",
       "      <th>category_2</th>\n",
       "      <th>category_3</th>\n",
       "    </tr>\n",
       "  </thead>\n",
       "  <tbody>\n",
       "    <tr>\n",
       "      <td>3</td>\n",
       "      <td>7</td>\n",
       "      <td>Girls cheer and tumbling bundle of 7</td>\n",
       "      <td>3</td>\n",
       "      <td>Soffe</td>\n",
       "      <td>6.0</td>\n",
       "      <td>1</td>\n",
       "      <td>You get three pairs of Sophie cheer shorts siz...</td>\n",
       "      <td>Sports &amp; Outdoors</td>\n",
       "      <td>Apparel</td>\n",
       "      <td>Girls</td>\n",
       "    </tr>\n",
       "    <tr>\n",
       "      <td>4</td>\n",
       "      <td>8</td>\n",
       "      <td>Girls Nike Pro shorts</td>\n",
       "      <td>3</td>\n",
       "      <td>Nike</td>\n",
       "      <td>19.0</td>\n",
       "      <td>0</td>\n",
       "      <td>Girls Size small Plus green. Three shorts total.</td>\n",
       "      <td>Sports &amp; Outdoors</td>\n",
       "      <td>Apparel</td>\n",
       "      <td>Girls</td>\n",
       "    </tr>\n",
       "    <tr>\n",
       "      <td>110</td>\n",
       "      <td>189</td>\n",
       "      <td>Marucci Pro Cut</td>\n",
       "      <td>3</td>\n",
       "      <td>Marucci</td>\n",
       "      <td>46.0</td>\n",
       "      <td>0</td>\n",
       "      <td>33/30</td>\n",
       "      <td>Sports &amp; Outdoors</td>\n",
       "      <td>Team Sports</td>\n",
       "      <td>Baseball &amp; Softball</td>\n",
       "    </tr>\n",
       "    <tr>\n",
       "      <td>139</td>\n",
       "      <td>229</td>\n",
       "      <td>Berkley Bad Shad 5</td>\n",
       "      <td>1</td>\n",
       "      <td>Berkley</td>\n",
       "      <td>13.0</td>\n",
       "      <td>1</td>\n",
       "      <td>Bread -new ready for you Get three lures One i...</td>\n",
       "      <td>Sports &amp; Outdoors</td>\n",
       "      <td>Outdoors</td>\n",
       "      <td>Fishing</td>\n",
       "    </tr>\n",
       "    <tr>\n",
       "      <td>161</td>\n",
       "      <td>262</td>\n",
       "      <td>Gray Under Armour pants</td>\n",
       "      <td>3</td>\n",
       "      <td>Under Armour</td>\n",
       "      <td>15.0</td>\n",
       "      <td>1</td>\n",
       "      <td>Gray UA Straight-leg Pants w/turquoise trim. L...</td>\n",
       "      <td>Sports &amp; Outdoors</td>\n",
       "      <td>Apparel</td>\n",
       "      <td>Girls</td>\n",
       "    </tr>\n",
       "    <tr>\n",
       "      <td>...</td>\n",
       "      <td>...</td>\n",
       "      <td>...</td>\n",
       "      <td>...</td>\n",
       "      <td>...</td>\n",
       "      <td>...</td>\n",
       "      <td>...</td>\n",
       "      <td>...</td>\n",
       "      <td>...</td>\n",
       "      <td>...</td>\n",
       "      <td>...</td>\n",
       "    </tr>\n",
       "    <tr>\n",
       "      <td>618037</td>\n",
       "      <td>1081566</td>\n",
       "      <td>Mct1983</td>\n",
       "      <td>3</td>\n",
       "      <td>Columbia</td>\n",
       "      <td>11.0</td>\n",
       "      <td>0</td>\n",
       "      <td>Perfect for under helmet. Fleece material. You...</td>\n",
       "      <td>Sports &amp; Outdoors</td>\n",
       "      <td>Outdoors</td>\n",
       "      <td>Snowboard</td>\n",
       "    </tr>\n",
       "    <tr>\n",
       "      <td>618042</td>\n",
       "      <td>1081575</td>\n",
       "      <td>2 Pack Yeti 30oz Rambler Handles</td>\n",
       "      <td>1</td>\n",
       "      <td>Yeti</td>\n",
       "      <td>12.0</td>\n",
       "      <td>1</td>\n",
       "      <td>The 2pcs cup handles is specially designed for...</td>\n",
       "      <td>Sports &amp; Outdoors</td>\n",
       "      <td>Outdoors</td>\n",
       "      <td>Hiking &amp; Camping</td>\n",
       "    </tr>\n",
       "    <tr>\n",
       "      <td>618197</td>\n",
       "      <td>1081858</td>\n",
       "      <td>Fitbit Charge HR</td>\n",
       "      <td>3</td>\n",
       "      <td>Fitbit</td>\n",
       "      <td>31.0</td>\n",
       "      <td>0</td>\n",
       "      <td>Shows signs of wear from regular use. Still fu...</td>\n",
       "      <td>Sports &amp; Outdoors</td>\n",
       "      <td>Exercise</td>\n",
       "      <td>Fitness technology</td>\n",
       "    </tr>\n",
       "    <tr>\n",
       "      <td>618216</td>\n",
       "      <td>1081897</td>\n",
       "      <td>Yeti 12oz KOOZIE VS PINK long Neck</td>\n",
       "      <td>1</td>\n",
       "      <td>Yeti</td>\n",
       "      <td>25.0</td>\n",
       "      <td>1</td>\n",
       "      <td>12oz YETI KOOZIE COLSTER SPECIAL EDITION 12oz ...</td>\n",
       "      <td>Sports &amp; Outdoors</td>\n",
       "      <td>Outdoors</td>\n",
       "      <td>Hiking &amp; Camping</td>\n",
       "    </tr>\n",
       "    <tr>\n",
       "      <td>618376</td>\n",
       "      <td>1082179</td>\n",
       "      <td>Fitbit HR charge plum</td>\n",
       "      <td>4</td>\n",
       "      <td>Fitbit</td>\n",
       "      <td>19.0</td>\n",
       "      <td>0</td>\n",
       "      <td>Size large Has bubble on front and small pink ...</td>\n",
       "      <td>Sports &amp; Outdoors</td>\n",
       "      <td>Exercise</td>\n",
       "      <td>Fitness accessories</td>\n",
       "    </tr>\n",
       "  </tbody>\n",
       "</table>\n",
       "<p>6724 rows × 10 columns</p>\n",
       "</div>"
      ],
      "text/plain": [
       "        train_id                                  name  item_condition_id  \\\n",
       "3              7  Girls cheer and tumbling bundle of 7                  3   \n",
       "4              8                 Girls Nike Pro shorts                  3   \n",
       "110          189                       Marucci Pro Cut                  3   \n",
       "139          229                    Berkley Bad Shad 5                  1   \n",
       "161          262               Gray Under Armour pants                  3   \n",
       "...          ...                                   ...                ...   \n",
       "618037   1081566                               Mct1983                  3   \n",
       "618042   1081575      2 Pack Yeti 30oz Rambler Handles                  1   \n",
       "618197   1081858                      Fitbit Charge HR                  3   \n",
       "618216   1081897    Yeti 12oz KOOZIE VS PINK long Neck                  1   \n",
       "618376   1082179                 Fitbit HR charge plum                  4   \n",
       "\n",
       "          brand_name  price  shipping  \\\n",
       "3              Soffe    6.0         1   \n",
       "4               Nike   19.0         0   \n",
       "110          Marucci   46.0         0   \n",
       "139          Berkley   13.0         1   \n",
       "161     Under Armour   15.0         1   \n",
       "...              ...    ...       ...   \n",
       "618037      Columbia   11.0         0   \n",
       "618042          Yeti   12.0         1   \n",
       "618197        Fitbit   31.0         0   \n",
       "618216          Yeti   25.0         1   \n",
       "618376        Fitbit   19.0         0   \n",
       "\n",
       "                                         item_description         category_1  \\\n",
       "3       You get three pairs of Sophie cheer shorts siz...  Sports & Outdoors   \n",
       "4        Girls Size small Plus green. Three shorts total.  Sports & Outdoors   \n",
       "110                                                 33/30  Sports & Outdoors   \n",
       "139     Bread -new ready for you Get three lures One i...  Sports & Outdoors   \n",
       "161     Gray UA Straight-leg Pants w/turquoise trim. L...  Sports & Outdoors   \n",
       "...                                                   ...                ...   \n",
       "618037  Perfect for under helmet. Fleece material. You...  Sports & Outdoors   \n",
       "618042  The 2pcs cup handles is specially designed for...  Sports & Outdoors   \n",
       "618197  Shows signs of wear from regular use. Still fu...  Sports & Outdoors   \n",
       "618216  12oz YETI KOOZIE COLSTER SPECIAL EDITION 12oz ...  Sports & Outdoors   \n",
       "618376  Size large Has bubble on front and small pink ...  Sports & Outdoors   \n",
       "\n",
       "         category_2           category_3  \n",
       "3           Apparel                Girls  \n",
       "4           Apparel                Girls  \n",
       "110     Team Sports  Baseball & Softball  \n",
       "139        Outdoors              Fishing  \n",
       "161         Apparel                Girls  \n",
       "...             ...                  ...  \n",
       "618037     Outdoors            Snowboard  \n",
       "618042     Outdoors     Hiking & Camping  \n",
       "618197     Exercise   Fitness technology  \n",
       "618216     Outdoors     Hiking & Camping  \n",
       "618376     Exercise  Fitness accessories  \n",
       "\n",
       "[6724 rows x 10 columns]"
      ]
     },
     "execution_count": 4,
     "metadata": {},
     "output_type": "execute_result"
    }
   ],
   "source": [
    "df[df['category_1']==\"Sports & Outdoors\"]"
   ]
  },
  {
   "cell_type": "code",
   "execution_count": 5,
   "metadata": {},
   "outputs": [
    {
     "name": "stderr",
     "output_type": "stream",
     "text": [
      "C:\\Users\\koh99\\Anaconda3\\lib\\site-packages\\pandas\\core\\series.py:853: RuntimeWarning: divide by zero encountered in log\n",
      "  result = getattr(ufunc, method)(*inputs, **kwargs)\n"
     ]
    },
    {
     "data": {
      "text/plain": [
       "7.605392364814935"
      ]
     },
     "execution_count": 5,
     "metadata": {},
     "output_type": "execute_result"
    }
   ],
   "source": [
    "np.log(df['price']).max()"
   ]
  },
  {
   "cell_type": "code",
   "execution_count": 6,
   "metadata": {},
   "outputs": [
    {
     "data": {
      "text/plain": [
       "{'whiskers': [<matplotlib.lines.Line2D at 0x1ce444d0f08>,\n",
       "  <matplotlib.lines.Line2D at 0x1ce444d0e08>],\n",
       " 'caps': [<matplotlib.lines.Line2D at 0x1ce444dbfc8>,\n",
       "  <matplotlib.lines.Line2D at 0x1ce444dbf88>],\n",
       " 'boxes': [<matplotlib.lines.Line2D at 0x1ce444d03c8>],\n",
       " 'medians': [<matplotlib.lines.Line2D at 0x1ce444e1f88>],\n",
       " 'fliers': [<matplotlib.lines.Line2D at 0x1ce444e5988>],\n",
       " 'means': []}"
      ]
     },
     "execution_count": 6,
     "metadata": {},
     "output_type": "execute_result"
    },
    {
     "data": {
      "image/png": "[encoded data removed]",
      "text/plain": [
       "<Figure size 432x288 with 1 Axes>"
      ]
     },
     "metadata": {
      "needs_background": "light"
     },
     "output_type": "display_data"
    }
   ],
   "source": [
    "plt.boxplot(df['price'])"
   ]
  },
  {
   "cell_type": "code",
   "execution_count": 7,
   "metadata": {},
   "outputs": [
    {
     "data": {
      "text/plain": [
       "(array([6.12395e+05, 4.90400e+03, 7.27000e+02, 2.39000e+02, 1.16000e+02,\n",
       "        3.80000e+01, 3.10000e+01, 1.50000e+01, 1.10000e+01, 9.00000e+00]),\n",
       " array([   0. ,  200.9,  401.8,  602.7,  803.6, 1004.5, 1205.4, 1406.3,\n",
       "        1607.2, 1808.1, 2009. ]),\n",
       " <a list of 10 Patch objects>)"
      ]
     },
     "execution_count": 7,
     "metadata": {},
     "output_type": "execute_result"
    },
    {
     "data": {
      "image/png": "[encoded data removed]",
      "text/plain": [
       "<Figure size 432x288 with 1 Axes>"
      ]
     },
     "metadata": {
      "needs_background": "light"
     },
     "output_type": "display_data"
    }
   ],
   "source": [
    "plt.hist(df['price'])"
   ]
  },
  {
   "cell_type": "code",
   "execution_count": 9,
   "metadata": {},
   "outputs": [
    {
     "name": "stderr",
     "output_type": "stream",
     "text": [
      "C:\\Users\\koh99\\Anaconda3\\lib\\site-packages\\pandas\\core\\series.py:853: RuntimeWarning: divide by zero encountered in log\n",
      "  result = getattr(ufunc, method)(*inputs, **kwargs)\n"
     ]
    },
    {
     "data": {
      "text/html": [
       "<div>\n",
       "<style scoped>\n",
       "    .dataframe tbody tr th:only-of-type {\n",
       "        vertical-align: middle;\n",
       "    }\n",
       "\n",
       "    .dataframe tbody tr th {\n",
       "        vertical-align: top;\n",
       "    }\n",
       "\n",
       "    .dataframe thead th {\n",
       "        text-align: right;\n",
       "    }\n",
       "</style>\n",
       "<table border=\"1\" class=\"dataframe\">\n",
       "  <thead>\n",
       "    <tr style=\"text-align: right;\">\n",
       "      <th></th>\n",
       "      <th>train_id</th>\n",
       "      <th>name</th>\n",
       "      <th>item_condition_id</th>\n",
       "      <th>brand_name</th>\n",
       "      <th>price</th>\n",
       "      <th>shipping</th>\n",
       "      <th>item_description</th>\n",
       "      <th>category_1</th>\n",
       "      <th>category_2</th>\n",
       "      <th>category_3</th>\n",
       "      <th>log_price</th>\n",
       "    </tr>\n",
       "  </thead>\n",
       "  <tbody>\n",
       "    <tr>\n",
       "      <td>0</td>\n",
       "      <td>1</td>\n",
       "      <td>Razer BlackWidow Chroma Keyboard</td>\n",
       "      <td>3</td>\n",
       "      <td>Razer</td>\n",
       "      <td>52.0</td>\n",
       "      <td>0</td>\n",
       "      <td>This keyboard is in great condition and works ...</td>\n",
       "      <td>Electronics</td>\n",
       "      <td>Computers &amp; Tablets</td>\n",
       "      <td>Components &amp; Parts</td>\n",
       "      <td>3.951244</td>\n",
       "    </tr>\n",
       "    <tr>\n",
       "      <td>1</td>\n",
       "      <td>2</td>\n",
       "      <td>AVA-VIV Blouse</td>\n",
       "      <td>1</td>\n",
       "      <td>Target</td>\n",
       "      <td>10.0</td>\n",
       "      <td>1</td>\n",
       "      <td>Adorable top with a hint of lace and a key hol...</td>\n",
       "      <td>Women</td>\n",
       "      <td>Tops &amp; Blouses</td>\n",
       "      <td>Blouse</td>\n",
       "      <td>2.302585</td>\n",
       "    </tr>\n",
       "    <tr>\n",
       "      <td>2</td>\n",
       "      <td>6</td>\n",
       "      <td>Acacia pacific tides santorini top</td>\n",
       "      <td>3</td>\n",
       "      <td>Acacia Swimwear</td>\n",
       "      <td>64.0</td>\n",
       "      <td>0</td>\n",
       "      <td>Size small but straps slightly shortened to fi...</td>\n",
       "      <td>Women</td>\n",
       "      <td>Swimwear</td>\n",
       "      <td>Two-Piece</td>\n",
       "      <td>4.158883</td>\n",
       "    </tr>\n",
       "    <tr>\n",
       "      <td>3</td>\n",
       "      <td>7</td>\n",
       "      <td>Girls cheer and tumbling bundle of 7</td>\n",
       "      <td>3</td>\n",
       "      <td>Soffe</td>\n",
       "      <td>6.0</td>\n",
       "      <td>1</td>\n",
       "      <td>You get three pairs of Sophie cheer shorts siz...</td>\n",
       "      <td>Sports &amp; Outdoors</td>\n",
       "      <td>Apparel</td>\n",
       "      <td>Girls</td>\n",
       "      <td>1.791759</td>\n",
       "    </tr>\n",
       "    <tr>\n",
       "      <td>4</td>\n",
       "      <td>8</td>\n",
       "      <td>Girls Nike Pro shorts</td>\n",
       "      <td>3</td>\n",
       "      <td>Nike</td>\n",
       "      <td>19.0</td>\n",
       "      <td>0</td>\n",
       "      <td>Girls Size small Plus green. Three shorts total.</td>\n",
       "      <td>Sports &amp; Outdoors</td>\n",
       "      <td>Apparel</td>\n",
       "      <td>Girls</td>\n",
       "      <td>2.944439</td>\n",
       "    </tr>\n",
       "  </tbody>\n",
       "</table>\n",
       "</div>"
      ],
      "text/plain": [
       "   train_id                                  name  item_condition_id  \\\n",
       "0         1      Razer BlackWidow Chroma Keyboard                  3   \n",
       "1         2                        AVA-VIV Blouse                  1   \n",
       "2         6    Acacia pacific tides santorini top                  3   \n",
       "3         7  Girls cheer and tumbling bundle of 7                  3   \n",
       "4         8                 Girls Nike Pro shorts                  3   \n",
       "\n",
       "        brand_name  price  shipping  \\\n",
       "0            Razer   52.0         0   \n",
       "1           Target   10.0         1   \n",
       "2  Acacia Swimwear   64.0         0   \n",
       "3            Soffe    6.0         1   \n",
       "4             Nike   19.0         0   \n",
       "\n",
       "                                    item_description         category_1  \\\n",
       "0  This keyboard is in great condition and works ...        Electronics   \n",
       "1  Adorable top with a hint of lace and a key hol...              Women   \n",
       "2  Size small but straps slightly shortened to fi...              Women   \n",
       "3  You get three pairs of Sophie cheer shorts siz...  Sports & Outdoors   \n",
       "4   Girls Size small Plus green. Three shorts total.  Sports & Outdoors   \n",
       "\n",
       "            category_2          category_3  log_price  \n",
       "0  Computers & Tablets  Components & Parts   3.951244  \n",
       "1       Tops & Blouses              Blouse   2.302585  \n",
       "2             Swimwear           Two-Piece   4.158883  \n",
       "3              Apparel               Girls   1.791759  \n",
       "4              Apparel               Girls   2.944439  "
      ]
     },
     "execution_count": 9,
     "metadata": {},
     "output_type": "execute_result"
    }
   ],
   "source": [
    "df['log_price']=np.log(df['price'])\n",
    "df.head()"
   ]
  },
  {
   "cell_type": "code",
   "execution_count": 10,
   "metadata": {
    "scrolled": true
   },
   "outputs": [
    {
     "data": {
      "text/plain": [
       "train_id               int64\n",
       "name                  object\n",
       "item_condition_id      int64\n",
       "brand_name            object\n",
       "price                float64\n",
       "shipping               int64\n",
       "item_description      object\n",
       "category_1            object\n",
       "category_2            object\n",
       "category_3            object\n",
       "log_price            float64\n",
       "dtype: object"
      ]
     },
     "execution_count": 10,
     "metadata": {},
     "output_type": "execute_result"
    }
   ],
   "source": [
    "df['log_price'].min() #-inf\n",
    "df[df['log_price']==-np.inf]\n",
    "df2=df[df['log_price']!=-np.inf]\n",
    "df2.dtypes"
   ]
  },
  {
   "cell_type": "code",
   "execution_count": 11,
   "metadata": {},
   "outputs": [
    {
     "data": {
      "text/html": [
       "<div>\n",
       "<style scoped>\n",
       "    .dataframe tbody tr th:only-of-type {\n",
       "        vertical-align: middle;\n",
       "    }\n",
       "\n",
       "    .dataframe tbody tr th {\n",
       "        vertical-align: top;\n",
       "    }\n",
       "\n",
       "    .dataframe thead th {\n",
       "        text-align: right;\n",
       "    }\n",
       "</style>\n",
       "<table border=\"1\" class=\"dataframe\">\n",
       "  <thead>\n",
       "    <tr style=\"text-align: right;\">\n",
       "      <th></th>\n",
       "      <th>train_id</th>\n",
       "      <th>name</th>\n",
       "      <th>item_condition_id</th>\n",
       "      <th>brand_name</th>\n",
       "      <th>price</th>\n",
       "      <th>shipping</th>\n",
       "      <th>item_description</th>\n",
       "      <th>category_1</th>\n",
       "      <th>category_2</th>\n",
       "      <th>category_3</th>\n",
       "      <th>log_price</th>\n",
       "    </tr>\n",
       "  </thead>\n",
       "  <tbody>\n",
       "    <tr>\n",
       "      <td>0</td>\n",
       "      <td>1</td>\n",
       "      <td>Razer BlackWidow Chroma Keyboard</td>\n",
       "      <td>3</td>\n",
       "      <td>Razer</td>\n",
       "      <td>52.0</td>\n",
       "      <td>0</td>\n",
       "      <td>This keyboard is in great condition and works ...</td>\n",
       "      <td>Electronics</td>\n",
       "      <td>Computers &amp; Tablets</td>\n",
       "      <td>Components &amp; Parts</td>\n",
       "      <td>3.951244</td>\n",
       "    </tr>\n",
       "    <tr>\n",
       "      <td>1</td>\n",
       "      <td>2</td>\n",
       "      <td>AVA-VIV Blouse</td>\n",
       "      <td>1</td>\n",
       "      <td>Target</td>\n",
       "      <td>10.0</td>\n",
       "      <td>1</td>\n",
       "      <td>Adorable top with a hint of lace and a key hol...</td>\n",
       "      <td>Women</td>\n",
       "      <td>Tops &amp; Blouses</td>\n",
       "      <td>Blouse</td>\n",
       "      <td>2.302585</td>\n",
       "    </tr>\n",
       "    <tr>\n",
       "      <td>2</td>\n",
       "      <td>6</td>\n",
       "      <td>Acacia pacific tides santorini top</td>\n",
       "      <td>3</td>\n",
       "      <td>Acacia Swimwear</td>\n",
       "      <td>64.0</td>\n",
       "      <td>0</td>\n",
       "      <td>Size small but straps slightly shortened to fi...</td>\n",
       "      <td>Women</td>\n",
       "      <td>Swimwear</td>\n",
       "      <td>Two-Piece</td>\n",
       "      <td>4.158883</td>\n",
       "    </tr>\n",
       "    <tr>\n",
       "      <td>3</td>\n",
       "      <td>7</td>\n",
       "      <td>Girls cheer and tumbling bundle of 7</td>\n",
       "      <td>3</td>\n",
       "      <td>Soffe</td>\n",
       "      <td>6.0</td>\n",
       "      <td>1</td>\n",
       "      <td>You get three pairs of Sophie cheer shorts siz...</td>\n",
       "      <td>Sports &amp; Outdoors</td>\n",
       "      <td>Apparel</td>\n",
       "      <td>Girls</td>\n",
       "      <td>1.791759</td>\n",
       "    </tr>\n",
       "    <tr>\n",
       "      <td>4</td>\n",
       "      <td>8</td>\n",
       "      <td>Girls Nike Pro shorts</td>\n",
       "      <td>3</td>\n",
       "      <td>Nike</td>\n",
       "      <td>19.0</td>\n",
       "      <td>0</td>\n",
       "      <td>Girls Size small Plus green. Three shorts total.</td>\n",
       "      <td>Sports &amp; Outdoors</td>\n",
       "      <td>Apparel</td>\n",
       "      <td>Girls</td>\n",
       "      <td>2.944439</td>\n",
       "    </tr>\n",
       "    <tr>\n",
       "      <td>...</td>\n",
       "      <td>...</td>\n",
       "      <td>...</td>\n",
       "      <td>...</td>\n",
       "      <td>...</td>\n",
       "      <td>...</td>\n",
       "      <td>...</td>\n",
       "      <td>...</td>\n",
       "      <td>...</td>\n",
       "      <td>...</td>\n",
       "      <td>...</td>\n",
       "      <td>...</td>\n",
       "    </tr>\n",
       "    <tr>\n",
       "      <td>618480</td>\n",
       "      <td>1082354</td>\n",
       "      <td>Tupperware Halloween Tumblers.</td>\n",
       "      <td>1</td>\n",
       "      <td>Tupperware</td>\n",
       "      <td>20.0</td>\n",
       "      <td>1</td>\n",
       "      <td>4 16oz Halloween Tumblers And 4 4oz snack cups</td>\n",
       "      <td>Home</td>\n",
       "      <td>Kitchen &amp; Dining</td>\n",
       "      <td>Kitchen Utensils &amp; Gadgets</td>\n",
       "      <td>2.995732</td>\n",
       "    </tr>\n",
       "    <tr>\n",
       "      <td>618481</td>\n",
       "      <td>1082355</td>\n",
       "      <td>Black Cardigan</td>\n",
       "      <td>3</td>\n",
       "      <td>Merona</td>\n",
       "      <td>7.0</td>\n",
       "      <td>0</td>\n",
       "      <td>Good condition.</td>\n",
       "      <td>Women</td>\n",
       "      <td>Sweaters</td>\n",
       "      <td>Cardigan</td>\n",
       "      <td>1.945910</td>\n",
       "    </tr>\n",
       "    <tr>\n",
       "      <td>618482</td>\n",
       "      <td>1082357</td>\n",
       "      <td>FREESHIP! Face Mud &amp; Exfoliator Borghese</td>\n",
       "      <td>1</td>\n",
       "      <td>Borghese</td>\n",
       "      <td>6.0</td>\n",
       "      <td>1</td>\n",
       "      <td>1 mini travel size Borghese Fango body refinin...</td>\n",
       "      <td>Beauty</td>\n",
       "      <td>Skin Care</td>\n",
       "      <td>Face</td>\n",
       "      <td>1.791759</td>\n",
       "    </tr>\n",
       "    <tr>\n",
       "      <td>618483</td>\n",
       "      <td>1082358</td>\n",
       "      <td>Nike Kobe Bryant X 10 GS Blue Lagoon</td>\n",
       "      <td>3</td>\n",
       "      <td>Nike</td>\n",
       "      <td>24.0</td>\n",
       "      <td>0</td>\n",
       "      <td>Nike Kobe Bryant X 10 GS Blue Lagoon 726067-40...</td>\n",
       "      <td>Kids</td>\n",
       "      <td>Boys (4+)</td>\n",
       "      <td>Shoes</td>\n",
       "      <td>3.178054</td>\n",
       "    </tr>\n",
       "    <tr>\n",
       "      <td>618484</td>\n",
       "      <td>1082359</td>\n",
       "      <td>PINK bra</td>\n",
       "      <td>3</td>\n",
       "      <td>Victoria's Secret</td>\n",
       "      <td>11.0</td>\n",
       "      <td>1</td>\n",
       "      <td>-light blue with white flowers -inside is pink...</td>\n",
       "      <td>Women</td>\n",
       "      <td>Underwear</td>\n",
       "      <td>Bras</td>\n",
       "      <td>2.397895</td>\n",
       "    </tr>\n",
       "  </tbody>\n",
       "</table>\n",
       "<p>618128 rows × 11 columns</p>\n",
       "</div>"
      ],
      "text/plain": [
       "        train_id                                      name  item_condition_id  \\\n",
       "0              1          Razer BlackWidow Chroma Keyboard                  3   \n",
       "1              2                            AVA-VIV Blouse                  1   \n",
       "2              6        Acacia pacific tides santorini top                  3   \n",
       "3              7      Girls cheer and tumbling bundle of 7                  3   \n",
       "4              8                     Girls Nike Pro shorts                  3   \n",
       "...          ...                                       ...                ...   \n",
       "618480   1082354            Tupperware Halloween Tumblers.                  1   \n",
       "618481   1082355                            Black Cardigan                  3   \n",
       "618482   1082357  FREESHIP! Face Mud & Exfoliator Borghese                  1   \n",
       "618483   1082358      Nike Kobe Bryant X 10 GS Blue Lagoon                  3   \n",
       "618484   1082359                                  PINK bra                  3   \n",
       "\n",
       "               brand_name  price  shipping  \\\n",
       "0                   Razer   52.0         0   \n",
       "1                  Target   10.0         1   \n",
       "2         Acacia Swimwear   64.0         0   \n",
       "3                   Soffe    6.0         1   \n",
       "4                    Nike   19.0         0   \n",
       "...                   ...    ...       ...   \n",
       "618480         Tupperware   20.0         1   \n",
       "618481             Merona    7.0         0   \n",
       "618482           Borghese    6.0         1   \n",
       "618483               Nike   24.0         0   \n",
       "618484  Victoria's Secret   11.0         1   \n",
       "\n",
       "                                         item_description         category_1  \\\n",
       "0       This keyboard is in great condition and works ...        Electronics   \n",
       "1       Adorable top with a hint of lace and a key hol...              Women   \n",
       "2       Size small but straps slightly shortened to fi...              Women   \n",
       "3       You get three pairs of Sophie cheer shorts siz...  Sports & Outdoors   \n",
       "4        Girls Size small Plus green. Three shorts total.  Sports & Outdoors   \n",
       "...                                                   ...                ...   \n",
       "618480     4 16oz Halloween Tumblers And 4 4oz snack cups               Home   \n",
       "618481                                    Good condition.              Women   \n",
       "618482  1 mini travel size Borghese Fango body refinin...             Beauty   \n",
       "618483  Nike Kobe Bryant X 10 GS Blue Lagoon 726067-40...               Kids   \n",
       "618484  -light blue with white flowers -inside is pink...              Women   \n",
       "\n",
       "                 category_2                  category_3  log_price  \n",
       "0       Computers & Tablets          Components & Parts   3.951244  \n",
       "1            Tops & Blouses                      Blouse   2.302585  \n",
       "2                  Swimwear                   Two-Piece   4.158883  \n",
       "3                   Apparel                       Girls   1.791759  \n",
       "4                   Apparel                       Girls   2.944439  \n",
       "...                     ...                         ...        ...  \n",
       "618480     Kitchen & Dining  Kitchen Utensils & Gadgets   2.995732  \n",
       "618481             Sweaters                    Cardigan   1.945910  \n",
       "618482            Skin Care                        Face   1.791759  \n",
       "618483            Boys (4+)                       Shoes   3.178054  \n",
       "618484            Underwear                        Bras   2.397895  \n",
       "\n",
       "[618128 rows x 11 columns]"
      ]
     },
     "execution_count": 11,
     "metadata": {},
     "output_type": "execute_result"
    }
   ],
   "source": [
    "df2"
   ]
  },
  {
   "cell_type": "code",
   "execution_count": 12,
   "metadata": {},
   "outputs": [
    {
     "data": {
      "text/plain": [
       "(array([1.51900e+04, 1.16342e+05, 2.11043e+05, 1.60601e+05, 7.62840e+04,\n",
       "        2.66480e+04, 9.29000e+03, 2.14000e+03, 4.98000e+02, 9.20000e+01]),\n",
       " array([1.09861229, 1.7492903 , 2.3999683 , 3.05064631, 3.70132432,\n",
       "        4.35200233, 5.00268033, 5.65335834, 6.30403635, 6.95471436,\n",
       "        7.60539236]),\n",
       " <a list of 10 Patch objects>)"
      ]
     },
     "execution_count": 12,
     "metadata": {},
     "output_type": "execute_result"
    },
    {
     "data": {
      "image/png": "[encoded data removed]",
      "text/plain": [
       "<Figure size 432x288 with 1 Axes>"
      ]
     },
     "metadata": {
      "needs_background": "light"
     },
     "output_type": "display_data"
    }
   ],
   "source": [
    "plt.hist(df2['log_price'])"
   ]
  },
  {
   "cell_type": "code",
   "execution_count": 13,
   "metadata": {},
   "outputs": [
    {
     "data": {
      "text/plain": [
       "{'whiskers': [<matplotlib.lines.Line2D at 0x1ce446ace08>,\n",
       "  <matplotlib.lines.Line2D at 0x1ce446acf88>],\n",
       " 'caps': [<matplotlib.lines.Line2D at 0x1ce446b0948>,\n",
       "  <matplotlib.lines.Line2D at 0x1ce446b0e88>],\n",
       " 'boxes': [<matplotlib.lines.Line2D at 0x1ce446ac688>],\n",
       " 'medians': [<matplotlib.lines.Line2D at 0x1ce446b0f88>],\n",
       " 'fliers': [<matplotlib.lines.Line2D at 0x1ce446b7988>],\n",
       " 'means': []}"
      ]
     },
     "execution_count": 13,
     "metadata": {},
     "output_type": "execute_result"
    },
    {
     "data": {
      "image/png": "[encoded data removed]",
      "text/plain": [
       "<Figure size 432x288 with 1 Axes>"
      ]
     },
     "metadata": {
      "needs_background": "light"
     },
     "output_type": "display_data"
    }
   ],
   "source": [
    "plt.boxplot(df['log_price'])"
   ]
  },
  {
   "cell_type": "code",
   "execution_count": 14,
   "metadata": {},
   "outputs": [
    {
     "data": {
      "text/plain": [
       "652"
      ]
     },
     "execution_count": 14,
     "metadata": {},
     "output_type": "execute_result"
    }
   ],
   "source": [
    "len(df2['category_3'].unique())"
   ]
  },
  {
   "cell_type": "code",
   "execution_count": 16,
   "metadata": {},
   "outputs": [
    {
     "data": {
      "text/plain": [
       "(array([0, 1, 2, 3, 4, 5, 6, 7, 8, 9]), <a list of 10 Text xticklabel objects>)"
      ]
     },
     "execution_count": 16,
     "metadata": {},
     "output_type": "execute_result"
    },
    {
     "data": {
      "image/png": "[encoded data removed]",
      "text/plain": [
       "<Figure size 432x288 with 1 Axes>"
      ]
     },
     "metadata": {
      "needs_background": "light"
     },
     "output_type": "display_data"
    }
   ],
   "source": [
    "sns.boxplot(x='category_1',y='price',data=df2)\n",
    "plt.xticks(rotation=45)"
   ]
  },
  {
   "cell_type": "code",
   "execution_count": 15,
   "metadata": {},
   "outputs": [
    {
     "data": {
      "text/plain": [
       "(array([0, 1, 2, 3, 4, 5, 6, 7, 8, 9]), <a list of 10 Text xticklabel objects>)"
      ]
     },
     "execution_count": 15,
     "metadata": {},
     "output_type": "execute_result"
    },
    {
     "data": {
      "image/png": "[encoded data removed]",
      "text/plain": [
       "<Figure size 432x288 with 1 Axes>"
      ]
     },
     "metadata": {
      "needs_background": "light"
     },
     "output_type": "display_data"
    }
   ],
   "source": [
    "sns.boxplot(x='category_1',y='log_price',data=df2)\n",
    "plt.xticks(rotation=45)\n",
    "# 비슷한듯 싶은데?"
   ]
  },
  {
   "cell_type": "code",
   "execution_count": 13,
   "metadata": {},
   "outputs": [
    {
     "data": {
      "text/plain": [
       "16.444646771097048"
      ]
     },
     "execution_count": 13,
     "metadata": {},
     "output_type": "execute_result"
    }
   ],
   "source": [
    "np.exp(2.8)"
   ]
  },
  {
   "cell_type": "code",
   "execution_count": 14,
   "metadata": {},
   "outputs": [
    {
     "data": {
      "text/plain": [
       "11.023176380641601"
      ]
     },
     "execution_count": 14,
     "metadata": {},
     "output_type": "execute_result"
    }
   ],
   "source": [
    "np.exp(2.4)"
   ]
  },
  {
   "cell_type": "code",
   "execution_count": 15,
   "metadata": {},
   "outputs": [
    {
     "data": {
      "text/plain": [
       "([0, 1, 2, 3, 4, 5, 6, 7, 8, 9], <a list of 10 Text xticklabel objects>)"
      ]
     },
     "execution_count": 15,
     "metadata": {},
     "output_type": "execute_result"
    },
    {
     "data": {
      "image/png": "[encoded data removed]",
      "text/plain": [
       "<Figure size 432x288 with 1 Axes>"
      ]
     },
     "metadata": {
      "needs_background": "light"
     },
     "output_type": "display_data"
    }
   ],
   "source": [
    "plt.hist(df2['category_1'])\n",
    "plt.xticks(rotation=45)"
   ]
  },
  {
   "cell_type": "code",
   "execution_count": 16,
   "metadata": {},
   "outputs": [
    {
     "data": {
      "text/plain": [
       "array(['Electronics', 'Women', 'Sports & Outdoors', 'Beauty', 'Other',\n",
       "       'Men', 'Home', 'Kids', 'Vintage & Collectibles', 'Handmade'],\n",
       "      dtype=object)"
      ]
     },
     "execution_count": 16,
     "metadata": {},
     "output_type": "execute_result"
    }
   ],
   "source": [
    "df2['category_1'].unique()"
   ]
  },
  {
   "cell_type": "code",
   "execution_count": 17,
   "metadata": {},
   "outputs": [
    {
     "data": {
      "text/plain": [
       "54"
      ]
     },
     "execution_count": 17,
     "metadata": {},
     "output_type": "execute_result"
    }
   ],
   "source": [
    "len(df2[df2['category_1']=='Handmade'])"
   ]
  },
  {
   "cell_type": "code",
   "execution_count": null,
   "metadata": {},
   "outputs": [],
   "source": []
  },
  {
   "cell_type": "code",
   "execution_count": 18,
   "metadata": {},
   "outputs": [
    {
     "data": {
      "text/plain": [
       "(array([0, 1, 2, 3, 4, 5, 6, 7, 8, 9]), <a list of 10 Text xticklabel objects>)"
      ]
     },
     "execution_count": 18,
     "metadata": {},
     "output_type": "execute_result"
    },
    {
     "data": {
      "image/png": "[encoded data removed]",
      "text/plain": [
       "<Figure size 432x288 with 1 Axes>"
      ]
     },
     "metadata": {
      "needs_background": "light"
     },
     "output_type": "display_data"
    }
   ],
   "source": [
    "sns.boxplot(x='category_1',y='price',data=df2)\n",
    "plt.xticks(rotation=45)"
   ]
  },
  {
   "cell_type": "code",
   "execution_count": 19,
   "metadata": {},
   "outputs": [
    {
     "data": {
      "text/plain": [
       "<matplotlib.axes._subplots.AxesSubplot at 0x23e869d62c8>"
      ]
     },
     "execution_count": 19,
     "metadata": {},
     "output_type": "execute_result"
    },
    {
     "data": {
      "image/png": "[encoded data removed]",
      "text/plain": [
       "<Figure size 432x288 with 1 Axes>"
      ]
     },
     "metadata": {
      "needs_background": "light"
     },
     "output_type": "display_data"
    }
   ],
   "source": [
    "sns.boxplot(x='item_condition_id',y='log_price',data=df2)\n",
    "# 비슷한듯...?"
   ]
  },
  {
   "cell_type": "code",
   "execution_count": 48,
   "metadata": {},
   "outputs": [],
   "source": [
    "#sns.hist(x='item_condition_id',y='category_1',data=df2)\n",
    "#plt.xticks(rotation=45)"
   ]
  },
  {
   "cell_type": "code",
   "execution_count": 38,
   "metadata": {},
   "outputs": [
    {
     "data": {
      "text/plain": [
       "array(['Electronics', 'Women', 'Sports & Outdoors', 'Beauty', 'Other',\n",
       "       'Men', 'Home', 'Kids', 'Vintage & Collectibles', 'Handmade'],\n",
       "      dtype=object)"
      ]
     },
     "execution_count": 38,
     "metadata": {},
     "output_type": "execute_result"
    }
   ],
   "source": [
    "df2['category_1'].unique()"
   ]
  },
  {
   "cell_type": "code",
   "execution_count": 61,
   "metadata": {},
   "outputs": [
    {
     "data": {
      "text/plain": [
       "43798"
      ]
     },
     "execution_count": 61,
     "metadata": {},
     "output_type": "execute_result"
    }
   ],
   "source": [
    "len(df2[df2['category_1']=='Electronics'])"
   ]
  },
  {
   "cell_type": "code",
   "execution_count": 64,
   "metadata": {},
   "outputs": [
    {
     "data": {
      "text/html": [
       "<div>\n",
       "<style scoped>\n",
       "    .dataframe tbody tr th:only-of-type {\n",
       "        vertical-align: middle;\n",
       "    }\n",
       "\n",
       "    .dataframe tbody tr th {\n",
       "        vertical-align: top;\n",
       "    }\n",
       "\n",
       "    .dataframe thead th {\n",
       "        text-align: right;\n",
       "    }\n",
       "</style>\n",
       "<table border=\"1\" class=\"dataframe\">\n",
       "  <thead>\n",
       "    <tr style=\"text-align: right;\">\n",
       "      <th></th>\n",
       "      <th>train_id</th>\n",
       "      <th>name</th>\n",
       "      <th>item_condition_id</th>\n",
       "      <th>brand_name</th>\n",
       "      <th>price</th>\n",
       "      <th>shipping</th>\n",
       "      <th>item_description</th>\n",
       "      <th>category_2</th>\n",
       "      <th>category_3</th>\n",
       "      <th>log_price</th>\n",
       "    </tr>\n",
       "    <tr>\n",
       "      <th>category_1</th>\n",
       "      <th></th>\n",
       "      <th></th>\n",
       "      <th></th>\n",
       "      <th></th>\n",
       "      <th></th>\n",
       "      <th></th>\n",
       "      <th></th>\n",
       "      <th></th>\n",
       "      <th></th>\n",
       "      <th></th>\n",
       "    </tr>\n",
       "  </thead>\n",
       "  <tbody>\n",
       "    <tr>\n",
       "      <td>Beauty</td>\n",
       "      <td>26</td>\n",
       "      <td>26</td>\n",
       "      <td>26</td>\n",
       "      <td>26</td>\n",
       "      <td>26</td>\n",
       "      <td>26</td>\n",
       "      <td>26</td>\n",
       "      <td>26</td>\n",
       "      <td>26</td>\n",
       "      <td>26</td>\n",
       "    </tr>\n",
       "    <tr>\n",
       "      <td>Electronics</td>\n",
       "      <td>730</td>\n",
       "      <td>730</td>\n",
       "      <td>730</td>\n",
       "      <td>730</td>\n",
       "      <td>730</td>\n",
       "      <td>730</td>\n",
       "      <td>730</td>\n",
       "      <td>730</td>\n",
       "      <td>730</td>\n",
       "      <td>730</td>\n",
       "    </tr>\n",
       "    <tr>\n",
       "      <td>Home</td>\n",
       "      <td>10</td>\n",
       "      <td>10</td>\n",
       "      <td>10</td>\n",
       "      <td>10</td>\n",
       "      <td>10</td>\n",
       "      <td>10</td>\n",
       "      <td>10</td>\n",
       "      <td>10</td>\n",
       "      <td>10</td>\n",
       "      <td>10</td>\n",
       "    </tr>\n",
       "    <tr>\n",
       "      <td>Kids</td>\n",
       "      <td>64</td>\n",
       "      <td>64</td>\n",
       "      <td>64</td>\n",
       "      <td>64</td>\n",
       "      <td>64</td>\n",
       "      <td>64</td>\n",
       "      <td>64</td>\n",
       "      <td>64</td>\n",
       "      <td>64</td>\n",
       "      <td>64</td>\n",
       "    </tr>\n",
       "    <tr>\n",
       "      <td>Men</td>\n",
       "      <td>99</td>\n",
       "      <td>99</td>\n",
       "      <td>99</td>\n",
       "      <td>99</td>\n",
       "      <td>99</td>\n",
       "      <td>99</td>\n",
       "      <td>99</td>\n",
       "      <td>99</td>\n",
       "      <td>99</td>\n",
       "      <td>99</td>\n",
       "    </tr>\n",
       "    <tr>\n",
       "      <td>Other</td>\n",
       "      <td>2</td>\n",
       "      <td>2</td>\n",
       "      <td>2</td>\n",
       "      <td>2</td>\n",
       "      <td>2</td>\n",
       "      <td>2</td>\n",
       "      <td>2</td>\n",
       "      <td>2</td>\n",
       "      <td>2</td>\n",
       "      <td>2</td>\n",
       "    </tr>\n",
       "    <tr>\n",
       "      <td>Sports &amp; Outdoors</td>\n",
       "      <td>4</td>\n",
       "      <td>4</td>\n",
       "      <td>4</td>\n",
       "      <td>4</td>\n",
       "      <td>4</td>\n",
       "      <td>4</td>\n",
       "      <td>4</td>\n",
       "      <td>4</td>\n",
       "      <td>4</td>\n",
       "      <td>4</td>\n",
       "    </tr>\n",
       "    <tr>\n",
       "      <td>Vintage &amp; Collectibles</td>\n",
       "      <td>38</td>\n",
       "      <td>38</td>\n",
       "      <td>38</td>\n",
       "      <td>38</td>\n",
       "      <td>38</td>\n",
       "      <td>38</td>\n",
       "      <td>38</td>\n",
       "      <td>38</td>\n",
       "      <td>38</td>\n",
       "      <td>38</td>\n",
       "    </tr>\n",
       "    <tr>\n",
       "      <td>Women</td>\n",
       "      <td>276</td>\n",
       "      <td>276</td>\n",
       "      <td>276</td>\n",
       "      <td>276</td>\n",
       "      <td>276</td>\n",
       "      <td>276</td>\n",
       "      <td>276</td>\n",
       "      <td>276</td>\n",
       "      <td>276</td>\n",
       "      <td>276</td>\n",
       "    </tr>\n",
       "  </tbody>\n",
       "</table>\n",
       "</div>"
      ],
      "text/plain": [
       "                        train_id  name  item_condition_id  brand_name  price  \\\n",
       "category_1                                                                     \n",
       "Beauty                        26    26                 26          26     26   \n",
       "Electronics                  730   730                730         730    730   \n",
       "Home                          10    10                 10          10     10   \n",
       "Kids                          64    64                 64          64     64   \n",
       "Men                           99    99                 99          99     99   \n",
       "Other                          2     2                  2           2      2   \n",
       "Sports & Outdoors              4     4                  4           4      4   \n",
       "Vintage & Collectibles        38    38                 38          38     38   \n",
       "Women                        276   276                276         276    276   \n",
       "\n",
       "                        shipping  item_description  category_2  category_3  \\\n",
       "category_1                                                                   \n",
       "Beauty                        26                26          26          26   \n",
       "Electronics                  730               730         730         730   \n",
       "Home                          10                10          10          10   \n",
       "Kids                          64                64          64          64   \n",
       "Men                           99                99          99          99   \n",
       "Other                          2                 2           2           2   \n",
       "Sports & Outdoors              4                 4           4           4   \n",
       "Vintage & Collectibles        38                38          38          38   \n",
       "Women                        276               276         276         276   \n",
       "\n",
       "                        log_price  \n",
       "category_1                         \n",
       "Beauty                         26  \n",
       "Electronics                   730  \n",
       "Home                           10  \n",
       "Kids                           64  \n",
       "Men                            99  \n",
       "Other                           2  \n",
       "Sports & Outdoors               4  \n",
       "Vintage & Collectibles         38  \n",
       "Women                         276  "
      ]
     },
     "execution_count": 64,
     "metadata": {},
     "output_type": "execute_result"
    }
   ],
   "source": [
    "df2[df2['item_condition_id']==5].groupby('category_1').count()"
   ]
  },
  {
   "cell_type": "code",
   "execution_count": 59,
   "metadata": {},
   "outputs": [
    {
     "name": "stdout",
     "output_type": "stream",
     "text": [
      "0.01666742773642632\n"
     ]
    }
   ],
   "source": [
    "df_elec=df2[df2['category_1']=='Electronics']\n",
    "#plt.hist(df_elec['item_condition_id'])\n",
    "print(len(df_elec[df_elec['item_condition_id']==5])/len(df2[df2['category_1']=='Electronics']))"
   ]
  },
  {
   "cell_type": "code",
   "execution_count": 55,
   "metadata": {},
   "outputs": [
    {
     "name": "stdout",
     "output_type": "stream",
     "text": [
      "99\n"
     ]
    }
   ],
   "source": [
    "df_men=df2[df2['category_1']=='Men']\n",
    "#plt.hist(df_men['item_condition_id'])\n",
    "print(df_men[df_men['item_condition_id']==5]['train_id'].count())"
   ]
  },
  {
   "cell_type": "code",
   "execution_count": 56,
   "metadata": {},
   "outputs": [
    {
     "name": "stdout",
     "output_type": "stream",
     "text": [
      "26\n"
     ]
    }
   ],
   "source": [
    "df_tmp=df2[df2['category_1']=='Beauty']\n",
    "#plt.hist(df_men['item_condition_id'])\n",
    "print(df_tmp[df_tmp['item_condition_id']==5]['train_id'].count())"
   ]
  },
  {
   "cell_type": "code",
   "execution_count": 57,
   "metadata": {},
   "outputs": [
    {
     "name": "stdout",
     "output_type": "stream",
     "text": [
      "4\n"
     ]
    }
   ],
   "source": [
    "#Sports & Outdoors\n",
    "df_tmp=df2[df2['category_1']=='Sports & Outdoors']\n",
    "#plt.hist(df_men['item_condition_id'])\n",
    "print(df_tmp[df_tmp['item_condition_id']==5]['train_id'].count())"
   ]
  },
  {
   "cell_type": "code",
   "execution_count": 20,
   "metadata": {},
   "outputs": [],
   "source": [
    "#sns.barplot(x='item_condition_id',y='log_price',data=df2)"
   ]
  },
  {
   "cell_type": "code",
   "execution_count": 21,
   "metadata": {},
   "outputs": [
    {
     "data": {
      "text/plain": [
       "<matplotlib.axes._subplots.AxesSubplot at 0x23e883eb108>"
      ]
     },
     "execution_count": 21,
     "metadata": {},
     "output_type": "execute_result"
    },
    {
     "data": {
      "image/png": "[encoded data removed]",
      "text/plain": [
       "<Figure size 432x288 with 1 Axes>"
      ]
     },
     "metadata": {
      "needs_background": "light"
     },
     "output_type": "display_data"
    }
   ],
   "source": [
    "sns.boxplot(x='item_condition_id',y='price',data=df2)"
   ]
  },
  {
   "cell_type": "code",
   "execution_count": null,
   "metadata": {},
   "outputs": [],
   "source": []
  },
  {
   "cell_type": "code",
   "execution_count": 22,
   "metadata": {},
   "outputs": [
    {
     "data": {
      "text/plain": [
       "5"
      ]
     },
     "execution_count": 22,
     "metadata": {},
     "output_type": "execute_result"
    }
   ],
   "source": [
    "len(df['item_condition_id'].unique())"
   ]
  },
  {
   "cell_type": "code",
   "execution_count": 23,
   "metadata": {},
   "outputs": [
    {
     "data": {
      "text/plain": [
       "<matplotlib.axes._subplots.AxesSubplot at 0x23e8847e148>"
      ]
     },
     "execution_count": 23,
     "metadata": {},
     "output_type": "execute_result"
    },
    {
     "data": {
      "image/png": "[encoded data removed]",
      "text/plain": [
       "<Figure size 432x288 with 1 Axes>"
      ]
     },
     "metadata": {
      "needs_background": "light"
     },
     "output_type": "display_data"
    }
   ],
   "source": [
    "sns.boxplot(x='shipping',y='log_price',data=df2)"
   ]
  },
  {
   "cell_type": "code",
   "execution_count": 24,
   "metadata": {},
   "outputs": [
    {
     "name": "stdout",
     "output_type": "stream",
     "text": [
      "377521\n"
     ]
    }
   ],
   "source": [
    "print(len(df2[df2['shipping']==0.0]))"
   ]
  },
  {
   "cell_type": "code",
   "execution_count": 25,
   "metadata": {},
   "outputs": [
    {
     "name": "stdout",
     "output_type": "stream",
     "text": [
      "240607\n"
     ]
    }
   ],
   "source": [
    "print(len(df2[df2['shipping']==1.0]))"
   ]
  },
  {
   "cell_type": "code",
   "execution_count": 26,
   "metadata": {},
   "outputs": [
    {
     "data": {
      "text/plain": [
       "(array([377521.,      0.,      0.,      0.,      0.,      0.,      0.,\n",
       "             0.,      0., 240607.]),\n",
       " array([0. , 0.1, 0.2, 0.3, 0.4, 0.5, 0.6, 0.7, 0.8, 0.9, 1. ]),\n",
       " <a list of 10 Patch objects>)"
      ]
     },
     "execution_count": 26,
     "metadata": {},
     "output_type": "execute_result"
    },
    {
     "data": {
      "image/png": "[encoded data removed]",
      "text/plain": [
       "<Figure size 432x288 with 1 Axes>"
      ]
     },
     "metadata": {
      "needs_background": "light"
     },
     "output_type": "display_data"
    }
   ],
   "source": [
    "plt.hist(df2['shipping'])"
   ]
  },
  {
   "cell_type": "code",
   "execution_count": null,
   "metadata": {},
   "outputs": [],
   "source": []
  },
  {
   "cell_type": "code",
   "execution_count": 27,
   "metadata": {},
   "outputs": [
    {
     "data": {
      "text/plain": [
       "(array([221824.,      0., 172190.,      0.,      0., 206936.,      0.,\n",
       "         15929.,      0.,   1249.]),\n",
       " array([1. , 1.4, 1.8, 2.2, 2.6, 3. , 3.4, 3.8, 4.2, 4.6, 5. ]),\n",
       " <a list of 10 Patch objects>)"
      ]
     },
     "execution_count": 27,
     "metadata": {},
     "output_type": "execute_result"
    },
    {
     "data": {
      "image/png": "[encoded data removed]",
      "text/plain": [
       "<Figure size 432x288 with 1 Axes>"
      ]
     },
     "metadata": {
      "needs_background": "light"
     },
     "output_type": "display_data"
    }
   ],
   "source": [
    "plt.hist(df2['item_condition_id'])"
   ]
  },
  {
   "cell_type": "code",
   "execution_count": 28,
   "metadata": {},
   "outputs": [
    {
     "data": {
      "text/html": [
       "<div>\n",
       "<style scoped>\n",
       "    .dataframe tbody tr th:only-of-type {\n",
       "        vertical-align: middle;\n",
       "    }\n",
       "\n",
       "    .dataframe tbody tr th {\n",
       "        vertical-align: top;\n",
       "    }\n",
       "\n",
       "    .dataframe thead th {\n",
       "        text-align: right;\n",
       "    }\n",
       "</style>\n",
       "<table border=\"1\" class=\"dataframe\">\n",
       "  <thead>\n",
       "    <tr style=\"text-align: right;\">\n",
       "      <th></th>\n",
       "      <th>train_id</th>\n",
       "      <th>name</th>\n",
       "      <th>item_condition_id</th>\n",
       "      <th>brand_name</th>\n",
       "      <th>price</th>\n",
       "      <th>shipping</th>\n",
       "      <th>item_description</th>\n",
       "      <th>category_1</th>\n",
       "      <th>category_2</th>\n",
       "      <th>category_3</th>\n",
       "      <th>log_price</th>\n",
       "    </tr>\n",
       "  </thead>\n",
       "  <tbody>\n",
       "    <tr>\n",
       "      <td>379</td>\n",
       "      <td>653</td>\n",
       "      <td>Fossil vintage renewal purse</td>\n",
       "      <td>5</td>\n",
       "      <td>Fossil</td>\n",
       "      <td>36.0</td>\n",
       "      <td>0</td>\n",
       "      <td>No description yet</td>\n",
       "      <td>Women</td>\n",
       "      <td>Women's Handbags</td>\n",
       "      <td>Shoulder Bag</td>\n",
       "      <td>3.583519</td>\n",
       "    </tr>\n",
       "    <tr>\n",
       "      <td>1946</td>\n",
       "      <td>3394</td>\n",
       "      <td>iPod 1st generation 80gb</td>\n",
       "      <td>5</td>\n",
       "      <td>Apple</td>\n",
       "      <td>20.0</td>\n",
       "      <td>1</td>\n",
       "      <td>For parts or repair</td>\n",
       "      <td>Electronics</td>\n",
       "      <td>Computers &amp; Tablets</td>\n",
       "      <td>iPad</td>\n",
       "      <td>2.995732</td>\n",
       "    </tr>\n",
       "    <tr>\n",
       "      <td>3381</td>\n",
       "      <td>5938</td>\n",
       "      <td>Alex and ani gold set of 4 *tarnished*</td>\n",
       "      <td>5</td>\n",
       "      <td>ALEX AND ANI</td>\n",
       "      <td>23.0</td>\n",
       "      <td>1</td>\n",
       "      <td>Alex and ani rafaelian gold set of four bracel...</td>\n",
       "      <td>Women</td>\n",
       "      <td>Jewelry</td>\n",
       "      <td>Bracelets</td>\n",
       "      <td>3.135494</td>\n",
       "    </tr>\n",
       "    <tr>\n",
       "      <td>3601</td>\n",
       "      <td>6301</td>\n",
       "      <td>Kd 6 Aunt Pearl size 8</td>\n",
       "      <td>5</td>\n",
       "      <td>Nike</td>\n",
       "      <td>36.0</td>\n",
       "      <td>0</td>\n",
       "      <td>Poor conditon kd 6 Aunt pearl. Really beat. Co...</td>\n",
       "      <td>Men</td>\n",
       "      <td>Shoes</td>\n",
       "      <td>Athletic</td>\n",
       "      <td>3.583519</td>\n",
       "    </tr>\n",
       "    <tr>\n",
       "      <td>3666</td>\n",
       "      <td>6429</td>\n",
       "      <td>Smashed iPhone 4S</td>\n",
       "      <td>5</td>\n",
       "      <td>Apple</td>\n",
       "      <td>20.0</td>\n",
       "      <td>1</td>\n",
       "      <td>Still functional if you were to charge it, fro...</td>\n",
       "      <td>Electronics</td>\n",
       "      <td>Cell Phones &amp; Accessories</td>\n",
       "      <td>Cell Phones &amp; Smartphones</td>\n",
       "      <td>2.995732</td>\n",
       "    </tr>\n",
       "    <tr>\n",
       "      <td>...</td>\n",
       "      <td>...</td>\n",
       "      <td>...</td>\n",
       "      <td>...</td>\n",
       "      <td>...</td>\n",
       "      <td>...</td>\n",
       "      <td>...</td>\n",
       "      <td>...</td>\n",
       "      <td>...</td>\n",
       "      <td>...</td>\n",
       "      <td>...</td>\n",
       "      <td>...</td>\n",
       "    </tr>\n",
       "    <tr>\n",
       "      <td>612736</td>\n",
       "      <td>1072215</td>\n",
       "      <td>Steve Madden Black Studded Loafers</td>\n",
       "      <td>5</td>\n",
       "      <td>Steve Madden</td>\n",
       "      <td>9.0</td>\n",
       "      <td>0</td>\n",
       "      <td>Purchased used from another seller. I love the...</td>\n",
       "      <td>Women</td>\n",
       "      <td>Shoes</td>\n",
       "      <td>Flats</td>\n",
       "      <td>2.197225</td>\n",
       "    </tr>\n",
       "    <tr>\n",
       "      <td>615163</td>\n",
       "      <td>1076509</td>\n",
       "      <td>b1b2</td>\n",
       "      <td>5</td>\n",
       "      <td>HP</td>\n",
       "      <td>12.0</td>\n",
       "      <td>0</td>\n",
       "      <td>No description yet</td>\n",
       "      <td>Other</td>\n",
       "      <td>Office supplies</td>\n",
       "      <td>Paper</td>\n",
       "      <td>2.484907</td>\n",
       "    </tr>\n",
       "    <tr>\n",
       "      <td>615454</td>\n",
       "      <td>1077049</td>\n",
       "      <td>Beater Nike Air Jordan VIII (8)</td>\n",
       "      <td>5</td>\n",
       "      <td>Jordan</td>\n",
       "      <td>20.0</td>\n",
       "      <td>0</td>\n",
       "      <td>Beater Some Sole Separation Paint Chipping No ...</td>\n",
       "      <td>Men</td>\n",
       "      <td>Shoes</td>\n",
       "      <td>Athletic</td>\n",
       "      <td>2.995732</td>\n",
       "    </tr>\n",
       "    <tr>\n",
       "      <td>617873</td>\n",
       "      <td>1081276</td>\n",
       "      <td>Large LuLaRoe Amelia</td>\n",
       "      <td>5</td>\n",
       "      <td>LuLaRoe</td>\n",
       "      <td>31.0</td>\n",
       "      <td>0</td>\n",
       "      <td>Large LuLaRoe Amelia Has stain on the front (s...</td>\n",
       "      <td>Women</td>\n",
       "      <td>Dresses</td>\n",
       "      <td>Knee-Length</td>\n",
       "      <td>3.433987</td>\n",
       "    </tr>\n",
       "    <tr>\n",
       "      <td>618204</td>\n",
       "      <td>1081872</td>\n",
       "      <td>Wii U Game cases</td>\n",
       "      <td>5</td>\n",
       "      <td>Nintendo</td>\n",
       "      <td>14.0</td>\n",
       "      <td>0</td>\n",
       "      <td>This listing is for 5 Wii U GAME CASES ONLY. I...</td>\n",
       "      <td>Electronics</td>\n",
       "      <td>Video Games &amp; Consoles</td>\n",
       "      <td>Games</td>\n",
       "      <td>2.639057</td>\n",
       "    </tr>\n",
       "  </tbody>\n",
       "</table>\n",
       "<p>1249 rows × 11 columns</p>\n",
       "</div>"
      ],
      "text/plain": [
       "        train_id                                    name  item_condition_id  \\\n",
       "379          653            Fossil vintage renewal purse                  5   \n",
       "1946        3394                iPod 1st generation 80gb                  5   \n",
       "3381        5938  Alex and ani gold set of 4 *tarnished*                  5   \n",
       "3601        6301                  Kd 6 Aunt Pearl size 8                  5   \n",
       "3666        6429                       Smashed iPhone 4S                  5   \n",
       "...          ...                                     ...                ...   \n",
       "612736   1072215      Steve Madden Black Studded Loafers                  5   \n",
       "615163   1076509                                    b1b2                  5   \n",
       "615454   1077049         Beater Nike Air Jordan VIII (8)                  5   \n",
       "617873   1081276                    Large LuLaRoe Amelia                  5   \n",
       "618204   1081872                        Wii U Game cases                  5   \n",
       "\n",
       "          brand_name  price  shipping  \\\n",
       "379           Fossil   36.0         0   \n",
       "1946           Apple   20.0         1   \n",
       "3381    ALEX AND ANI   23.0         1   \n",
       "3601            Nike   36.0         0   \n",
       "3666           Apple   20.0         1   \n",
       "...              ...    ...       ...   \n",
       "612736  Steve Madden    9.0         0   \n",
       "615163            HP   12.0         0   \n",
       "615454        Jordan   20.0         0   \n",
       "617873       LuLaRoe   31.0         0   \n",
       "618204      Nintendo   14.0         0   \n",
       "\n",
       "                                         item_description   category_1  \\\n",
       "379                                    No description yet        Women   \n",
       "1946                                  For parts or repair  Electronics   \n",
       "3381    Alex and ani rafaelian gold set of four bracel...        Women   \n",
       "3601    Poor conditon kd 6 Aunt pearl. Really beat. Co...          Men   \n",
       "3666    Still functional if you were to charge it, fro...  Electronics   \n",
       "...                                                   ...          ...   \n",
       "612736  Purchased used from another seller. I love the...        Women   \n",
       "615163                                 No description yet        Other   \n",
       "615454  Beater Some Sole Separation Paint Chipping No ...          Men   \n",
       "617873  Large LuLaRoe Amelia Has stain on the front (s...        Women   \n",
       "618204  This listing is for 5 Wii U GAME CASES ONLY. I...  Electronics   \n",
       "\n",
       "                       category_2                 category_3  log_price  \n",
       "379              Women's Handbags               Shoulder Bag   3.583519  \n",
       "1946          Computers & Tablets                       iPad   2.995732  \n",
       "3381                      Jewelry                  Bracelets   3.135494  \n",
       "3601                        Shoes                   Athletic   3.583519  \n",
       "3666    Cell Phones & Accessories  Cell Phones & Smartphones   2.995732  \n",
       "...                           ...                        ...        ...  \n",
       "612736                      Shoes                      Flats   2.197225  \n",
       "615163            Office supplies                      Paper   2.484907  \n",
       "615454                      Shoes                   Athletic   2.995732  \n",
       "617873                    Dresses                Knee-Length   3.433987  \n",
       "618204     Video Games & Consoles                      Games   2.639057  \n",
       "\n",
       "[1249 rows x 11 columns]"
      ]
     },
     "execution_count": 28,
     "metadata": {},
     "output_type": "execute_result"
    }
   ],
   "source": [
    "df2[df2['item_condition_id']==5.0]"
   ]
  },
  {
   "cell_type": "code",
   "execution_count": 29,
   "metadata": {},
   "outputs": [
    {
     "data": {
      "text/plain": [
       "array(['Electronics', 'Women', 'Sports & Outdoors', 'Beauty', 'Other',\n",
       "       'Men', 'Home', 'Kids', 'Vintage & Collectibles', 'Handmade'],\n",
       "      dtype=object)"
      ]
     },
     "execution_count": 29,
     "metadata": {},
     "output_type": "execute_result"
    }
   ],
   "source": [
    "df['category_1'].unique() #10"
   ]
  },
  {
   "cell_type": "code",
   "execution_count": 30,
   "metadata": {},
   "outputs": [
    {
     "data": {
      "text/plain": [
       "104"
      ]
     },
     "execution_count": 30,
     "metadata": {},
     "output_type": "execute_result"
    }
   ],
   "source": [
    "len(df['category_2'].unique())"
   ]
  },
  {
   "cell_type": "code",
   "execution_count": 31,
   "metadata": {},
   "outputs": [
    {
     "data": {
      "text/plain": [
       "652"
      ]
     },
     "execution_count": 31,
     "metadata": {},
     "output_type": "execute_result"
    }
   ],
   "source": [
    "len(df['category_3'].unique())"
   ]
  },
  {
   "cell_type": "code",
   "execution_count": 32,
   "metadata": {},
   "outputs": [
    {
     "data": {
      "text/plain": [
       "4404"
      ]
     },
     "execution_count": 32,
     "metadata": {},
     "output_type": "execute_result"
    }
   ],
   "source": [
    "len(df2['brand_name'].unique())"
   ]
  },
  {
   "cell_type": "code",
   "execution_count": 33,
   "metadata": {},
   "outputs": [],
   "source": [
    "df2.to_csv('train_eda_fin.csv',index=False)"
   ]
  },
  {
   "cell_type": "code",
   "execution_count": null,
   "metadata": {},
   "outputs": [],
   "source": []
  },
  {
   "cell_type": "code",
   "execution_count": null,
   "metadata": {},
   "outputs": [],
   "source": []
  },
  {
   "cell_type": "code",
   "execution_count": 48,
   "metadata": {},
   "outputs": [
    {
     "data": {
      "text/plain": [
       "array(['Razer', 'Samsung', 'Apple', 'Xbox', 'Nintendo', 'Sony',\n",
       "       'AmazonBasics', 'JBL', 'Kodak', 'Belkin', 'Microsoft', 'LG',\n",
       "       'ASUS', 'Bose', 'PopSockets', 'Fuji', 'Toshiba', 'Dell', 'Beats',\n",
       "       'Beats by Dr. Dre', 'Crayola', 'Canon', 'HTC', 'Roku', 'HP',\n",
       "       'Nikon', 'Targus', 'Garmin', 'SanDisk', 'Gateway', 'Pioneer',\n",
       "       'Altec Lansing', 'D-Link', 'Brother', 'Acer', 'Panasonic',\n",
       "       'Western Digital', 'Logitech', 'TomTom', 'Plantronics', 'Valve',\n",
       "       'Amazon', 'General Electric', 'Aurum', 'M', 'Disney', 'AMD',\n",
       "       'Netgear', 'Sega', 'Seagate', 'DYMO', 'rue', 'Compaq',\n",
       "       'Harman Kardon', 'Linksys', \"Victoria's Secret\", 'Wacom',\n",
       "       'Accessory Collective', 'LifeProof', 'Incipio', 'Aiptek',\n",
       "       'Incase Designs', 'Nokia', 'Insignia', 'PlayStation', 'Avery',\n",
       "       'Polaroid', 'Go Gear', 'Shure', 'Kyocera', 'Samsung Galaxy',\n",
       "       'Custom Accessories', 'Body Glove', 'IBM', 'JVC', 'Dragon Ball Z',\n",
       "       'VTech', 'Uniden', 'Sylvania', 'Generic', 'DIRECTV',\n",
       "       'PoGo! Products', 'Ring', 'Intel', 'Griffin', 'RCA', 'Konami',\n",
       "       'Energizer®', 'Denon', 'UltimateTV RCA', 'TDK', 'GoPro', 'Ubisoft',\n",
       "       'PINK', 'Skullcandy', 'Epson', 'Warner Bros.', 'Star Wars',\n",
       "       'Kenwood', 'Lexar', 'Phillips', 'Monster Cable', 'Sennheiser',\n",
       "       'I-Jam', 'Speck', 'Spin Master', 'Sirius Satellite Radio',\n",
       "       'Micro Innovations', 'AudioSource', 'OtterBox', 'Sanyo',\n",
       "       'Polk Audio', 'kate spade new york', 'Emerson', 'Magellan®',\n",
       "       'Activision', 'Agfa', 'Elmo', 'Taboo', 'NEC Technologies', 'LaCie',\n",
       "       'Onkyo', 'Bandai', 'Anker', 'Crosley Radio', 'Neewer',\n",
       "       'Curtis Computer Products', 'EA Sports', 'Texas Instruments',\n",
       "       'PNY', 'Motorola', 'Magnavox', 'Nest', 'Audio-Technica', 'Klipsch',\n",
       "       'Emachines', 'MSI', 'Nike', 'Samsonite', 'XM', '2K Games',\n",
       "       'NVIDIA', 'Olympus', 'GBC', 'Zune', 'Bushnell', 'Maxell',\n",
       "       'A Bathing Ape', 'Disney Pixar', 'Oregon Scientific', 'GAME',\n",
       "       'Sharp', 'Capcom', 'WWE', 'Nick Jr.', 'Funimation Production',\n",
       "       'Audiovox', 'Com', 'Michael Kors', 'Kate Spade', 'RIM',\n",
       "       'Precision', 'Peppa Pig', 'Tumi', 'GPX', 'Hitachi', 'Coleman',\n",
       "       'Halo', 'dreamGEAR', 'Warrior', 'Universal Studios', 'BLUE',\n",
       "       'ATI Technologies', 'Lenovo', 'Conair', 'Zoom', 'Hello Kitty',\n",
       "       'Lions Gate', 'Univsersal Studios', 'Jensen', 'Pokemon',\n",
       "       'Creative Labs', 'Rand McNally', '3M®', 'EVGA', 'GeoDiscovery',\n",
       "       'Paramount', 'Escort Radar', 'Fujifilm', 'GE', 'LEGO',\n",
       "       'Mega Bloks', 'Good Technology', 'Atari', 'Joby', 'Square Enix',\n",
       "       'Moda International', 'Ghost', 'Tractr', 'Genica', 'Turtle Beach',\n",
       "       'Schumacher Electric', 'A&A Optical', 'Jeep', 'Philips',\n",
       "       'SportBrain', 'Nana', 'Electronic Arts', 'Electric Family',\n",
       "       'Duracell', 'Element', 'Velocity', 'Marvel Universe', 'Volcom',\n",
       "       'Sony Pictures', 'Vera Bradley', 'American Girl ®', 'Kingston',\n",
       "       'HoMedics', 'ViewSonic', 'Stanley', 'Sesame Street', 'Target',\n",
       "       'Coach', 'Power A', 'Impossible',\n",
       "       'Walt Disney Studios Home Entertainment', 'Alpine', 'Chromo Inc',\n",
       "       'Gigabyte', 'TP-Link', 'Corsair', 'Pressman Toy', 'Hannspree',\n",
       "       'Dreamworks', 'Cooler Master', 'Warner Home Video', 'Zumba',\n",
       "       'Cannon', 'Advent', 'Supreme', 'Herschel Supply Company',\n",
       "       'Minecraft', 'Dazzle Multimedia', 'Unwired Technologies',\n",
       "       'Rosewill', 'EXP Computer', 'Reba', 'Marvel', 'Tile', 'Spigen',\n",
       "       'Sharper Image', 'Starbucks', 'Hype', 'Bang & Olufsen',\n",
       "       'Sony Electronics', 'Black & Decker', 'Nook', 'G by Guess',\n",
       "       'Memorex', 'Kensington', 'Maxtor', 'Hot Topic', 'NO-AD',\n",
       "       'Pinnacle Systems'], dtype=object)"
      ]
     },
     "execution_count": 48,
     "metadata": {},
     "output_type": "execute_result"
    }
   ],
   "source": [
    "df2[df2['category_1']=='Electronics']['brand_name'].unique()"
   ]
  },
  {
   "cell_type": "code",
   "execution_count": null,
   "metadata": {},
   "outputs": [],
   "source": []
  },
  {
   "cell_type": "code",
   "execution_count": null,
   "metadata": {},
   "outputs": [],
   "source": []
  },
  {
   "cell_type": "code",
   "execution_count": null,
   "metadata": {},
   "outputs": [],
   "source": []
  },
  {
   "cell_type": "code",
   "execution_count": null,
   "metadata": {},
   "outputs": [],
   "source": []
  }
 ],
 "metadata": {
  "kernelspec": {
   "display_name": "Python 3",
   "language": "python",
   "name": "python3"
  },
  "language_info": {
   "codemirror_mode": {
    "name": "ipython",
    "version": 3
   },
   "file_extension": ".py",
   "mimetype": "text/x-python",
   "name": "python",
   "nbconvert_exporter": "python",
   "pygments_lexer": "ipython3",
   "version": "3.7.4"
  }
 },
 "nbformat": 4,
 "nbformat_minor": 2
}
